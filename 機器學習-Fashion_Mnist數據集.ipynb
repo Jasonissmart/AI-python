{
 "cells": [
  {
   "cell_type": "code",
   "execution_count": 1,
   "metadata": {},
   "outputs": [],
   "source": [
    "%matplotlib inline\n",
    "\n",
    "import numpy as np\n",
    "import matplotlib.pyplot as plt"
   ]
  },
  {
   "cell_type": "markdown",
   "metadata": {},
   "source": [
    "# 1. 讀入 Fashion MNSIT 數據集"
   ]
  },
  {
   "cell_type": "code",
   "execution_count": 2,
   "metadata": {},
   "outputs": [],
   "source": [
    "from tensorflow.keras.datasets import fashion_mnist"
   ]
  },
  {
   "cell_type": "code",
   "execution_count": 3,
   "metadata": {},
   "outputs": [],
   "source": [
    "(x_train, y_train), (x_test, y_test) = fashion_mnist.load_data()"
   ]
  },
  {
   "cell_type": "markdown",
   "metadata": {},
   "source": [
    "# 2. 欣賞數據集內容"
   ]
  },
  {
   "cell_type": "code",
   "execution_count": 4,
   "metadata": {},
   "outputs": [],
   "source": [
    "class_names = ['T-shirt/top', 'Trouser', 'Pullover', 'Dress', 'Coat',\n",
    "               'Sandal', 'Shirt', 'Sneaker', 'Bag', 'Ankle boot']"
   ]
  },
  {
   "cell_type": "code",
   "execution_count": 5,
   "metadata": {},
   "outputs": [
    {
     "name": "stdout",
     "output_type": "stream",
     "text": [
      "這是 Bag\n"
     ]
    },
    {
     "data": {
      "text/plain": [
       "<matplotlib.image.AxesImage at 0x1a97f88c6d8>"
      ]
     },
     "execution_count": 5,
     "metadata": {},
     "output_type": "execute_result"
    },
    {
     "data": {
      "image/png": "[encoded data removed]",
      "text/plain": [
       "<Figure size 432x288 with 1 Axes>"
      ]
     },
     "metadata": {},
     "output_type": "display_data"
    }
   ],
   "source": [
    "n = 1234\n",
    "print('這是',class_names[y_train[n]])\n",
    "plt.imshow(x_train[n], cmap='Greys')"
   ]
  },
  {
   "cell_type": "code",
   "execution_count": 6,
   "metadata": {},
   "outputs": [
    {
     "data": {
      "image/png": "[encoded data removed]",
      "text/plain": [
       "<Figure size 432x288 with 5 Axes>"
      ]
     },
     "metadata": {},
     "output_type": "display_data"
    }
   ],
   "source": [
    "pick = np.random.choice(60000, 5, replace=False)\n",
    "\n",
    "for i in range(5):\n",
    "    n = pick[i]\n",
    "    ax = plt.subplot(151+i)  #1 row & 5 col & current position is 1\n",
    "    ax.set_xticks([])\n",
    "    ax.set_yticks([])\n",
    "    ax.set_title(class_names[y_train[n]], fontsize=10)\n",
    "    plt.imshow(x_train[n], cmap='Greys')"
   ]
  },
  {
   "cell_type": "code",
   "execution_count": 7,
   "metadata": {},
   "outputs": [
    {
     "data": {
      "text/plain": [
       "60000"
      ]
     },
     "execution_count": 7,
     "metadata": {},
     "output_type": "execute_result"
    }
   ],
   "source": [
    "len(x_train)"
   ]
  },
  {
   "cell_type": "code",
   "execution_count": 8,
   "metadata": {},
   "outputs": [
    {
     "data": {
      "text/plain": [
       "10000"
      ]
     },
     "execution_count": 8,
     "metadata": {},
     "output_type": "execute_result"
    }
   ],
   "source": [
    "len(x_test)"
   ]
  },
  {
   "cell_type": "code",
   "execution_count": 9,
   "metadata": {},
   "outputs": [
    {
     "data": {
      "text/plain": [
       "(60000, 28, 28)"
      ]
     },
     "execution_count": 9,
     "metadata": {},
     "output_type": "execute_result"
    }
   ],
   "source": [
    "x_train.shape"
   ]
  },
  {
   "cell_type": "code",
   "execution_count": 10,
   "metadata": {
    "scrolled": true
   },
   "outputs": [
    {
     "data": {
      "text/plain": [
       "(60000,)"
      ]
     },
     "execution_count": 10,
     "metadata": {},
     "output_type": "execute_result"
    }
   ],
   "source": [
    "y_train.shape"
   ]
  },
  {
   "cell_type": "code",
   "execution_count": 11,
   "metadata": {
    "scrolled": true
   },
   "outputs": [
    {
     "data": {
      "text/plain": [
       "784"
      ]
     },
     "execution_count": 11,
     "metadata": {},
     "output_type": "execute_result"
    }
   ],
   "source": [
    "28*28"
   ]
  },
  {
   "cell_type": "code",
   "execution_count": 12,
   "metadata": {},
   "outputs": [
    {
     "data": {
      "text/plain": [
       "255"
      ]
     },
     "execution_count": 12,
     "metadata": {},
     "output_type": "execute_result"
    }
   ],
   "source": [
    "np.max(x_train[n]) #最大像素"
   ]
  },
  {
   "cell_type": "code",
   "execution_count": 13,
   "metadata": {},
   "outputs": [
    {
     "name": "stdout",
     "output_type": "stream",
     "text": [
      "{0, 1, 2, 3, 4, 5, 6, 7, 8, 9}\n"
     ]
    }
   ],
   "source": [
    "print(set(y_train))#有幾類"
   ]
  },
  {
   "cell_type": "markdown",
   "metadata": {},
   "source": [
    "# 資料處理"
   ]
  },
  {
   "cell_type": "code",
   "execution_count": 14,
   "metadata": {},
   "outputs": [],
   "source": [
    "x_train = x_train.reshape(len(x_train), 784)"
   ]
  },
  {
   "cell_type": "code",
   "execution_count": 15,
   "metadata": {},
   "outputs": [],
   "source": [
    "x_test = x_test.reshape(len(x_test),784)"
   ]
  },
  {
   "cell_type": "code",
   "execution_count": 16,
   "metadata": {},
   "outputs": [],
   "source": [
    "x_train = x_train/255\n",
    "x_test = x_test/255"
   ]
  },
  {
   "cell_type": "code",
   "execution_count": 17,
   "metadata": {},
   "outputs": [],
   "source": [
    "from tensorflow.keras.utils import to_categorical"
   ]
  },
  {
   "cell_type": "code",
   "execution_count": 18,
   "metadata": {},
   "outputs": [],
   "source": [
    "y_train = to_categorical(y_train, 10)\n",
    "y_test = to_categorical(y_test, 10)"
   ]
  },
  {
   "cell_type": "markdown",
   "metadata": {},
   "source": [
    "# 打造神經網路"
   ]
  },
  {
   "cell_type": "code",
   "execution_count": 19,
   "metadata": {},
   "outputs": [],
   "source": [
    "from tensorflow.keras.models import Sequential\n",
    "from tensorflow.keras.layers import Dense\n",
    "from tensorflow.keras.optimizers import SGD"
   ]
  },
  {
   "cell_type": "code",
   "execution_count": 20,
   "metadata": {},
   "outputs": [],
   "source": [
    "model = Sequential()"
   ]
  },
  {
   "cell_type": "code",
   "execution_count": 21,
   "metadata": {},
   "outputs": [],
   "source": [
    "model.add(Dense(100, input_dim=784, activation='relu'))"
   ]
  },
  {
   "cell_type": "code",
   "execution_count": 22,
   "metadata": {},
   "outputs": [],
   "source": [
    "model.add(Dense(100, activation='relu'))"
   ]
  },
  {
   "cell_type": "code",
   "execution_count": 23,
   "metadata": {},
   "outputs": [],
   "source": [
    "model.add(Dense(10, activation='softmax'))"
   ]
  },
  {
   "cell_type": "markdown",
   "metadata": {},
   "source": [
    "# 4. 組裝我們的神經網路"
   ]
  },
  {
   "cell_type": "code",
   "execution_count": 24,
   "metadata": {},
   "outputs": [],
   "source": [
    "model.compile(loss='mse', optimizer=SGD(lr=0.087), metrics=['accuracy']) #metrics用來告訴訓練時的正確率"
   ]
  },
  {
   "cell_type": "code",
   "execution_count": 25,
   "metadata": {},
   "outputs": [
    {
     "name": "stdout",
     "output_type": "stream",
     "text": [
      "Model: \"sequential\"\n",
      "_________________________________________________________________\n",
      "Layer (type)                 Output Shape              Param #   \n",
      "=================================================================\n",
      "dense (Dense)                (None, 100)               78500     \n",
      "_________________________________________________________________\n",
      "dense_1 (Dense)              (None, 100)               10100     \n",
      "_________________________________________________________________\n",
      "dense_2 (Dense)              (None, 10)                1010      \n",
      "=================================================================\n",
      "Total params: 89,610\n",
      "Trainable params: 89,610\n",
      "Non-trainable params: 0\n",
      "_________________________________________________________________\n"
     ]
    }
   ],
   "source": [
    "model.summary()"
   ]
  },
  {
   "cell_type": "code",
   "execution_count": 26,
   "metadata": {},
   "outputs": [
    {
     "data": {
      "text/plain": [
       "78500"
      ]
     },
     "execution_count": 26,
     "metadata": {},
     "output_type": "execute_result"
    }
   ],
   "source": [
    "100*784+100"
   ]
  },
  {
   "cell_type": "markdown",
   "metadata": {},
   "source": [
    "# 5. 訓練"
   ]
  },
  {
   "cell_type": "code",
   "execution_count": 30,
   "metadata": {},
   "outputs": [
    {
     "name": "stdout",
     "output_type": "stream",
     "text": [
      "Train on 60000 samples\n",
      "Epoch 1/50\n",
      "60000/60000 [==============================] - 2s 27us/sample - loss: 0.0210 - accuracy: 0.8585\n",
      "Epoch 2/50\n",
      "60000/60000 [==============================] - 2s 30us/sample - loss: 0.0208 - accuracy: 0.8587\n",
      "Epoch 3/50\n",
      "60000/60000 [==============================] - 2s 28us/sample - loss: 0.0206 - accuracy: 0.8612\n",
      "Epoch 4/50\n",
      "60000/60000 [==============================] - 2s 27us/sample - loss: 0.0204 - accuracy: 0.8625\n",
      "Epoch 5/50\n",
      "60000/60000 [==============================] - 2s 26us/sample - loss: 0.0203 - accuracy: 0.8629\n",
      "Epoch 6/50\n",
      "60000/60000 [==============================] - 2s 26us/sample - loss: 0.0201 - accuracy: 0.8642\n",
      "Epoch 7/50\n",
      "60000/60000 [==============================] - 2s 26us/sample - loss: 0.0200 - accuracy: 0.8664\n",
      "Epoch 8/50\n",
      "60000/60000 [==============================] - 2s 27us/sample - loss: 0.0198 - accuracy: 0.8669\n",
      "Epoch 9/50\n",
      "60000/60000 [==============================] - 2s 26us/sample - loss: 0.0197 - accuracy: 0.8674\n",
      "Epoch 10/50\n",
      "60000/60000 [==============================] - 2s 26us/sample - loss: 0.0195 - accuracy: 0.8688\n",
      "Epoch 11/50\n",
      "60000/60000 [==============================] - 2s 30us/sample - loss: 0.0194 - accuracy: 0.8704\n",
      "Epoch 12/50\n",
      "60000/60000 [==============================] - 2s 27us/sample - loss: 0.0193 - accuracy: 0.8707\n",
      "Epoch 13/50\n",
      "60000/60000 [==============================] - 2s 26us/sample - loss: 0.0192 - accuracy: 0.8720\n",
      "Epoch 14/50\n",
      "60000/60000 [==============================] - 2s 27us/sample - loss: 0.0191 - accuracy: 0.8721\n",
      "Epoch 15/50\n",
      "60000/60000 [==============================] - 2s 26us/sample - loss: 0.0190 - accuracy: 0.8735\n",
      "Epoch 16/50\n",
      "60000/60000 [==============================] - 2s 26us/sample - loss: 0.0189 - accuracy: 0.8743\n",
      "Epoch 17/50\n",
      "60000/60000 [==============================] - 2s 27us/sample - loss: 0.0188 - accuracy: 0.8744\n",
      "Epoch 18/50\n",
      "60000/60000 [==============================] - 2s 26us/sample - loss: 0.0186 - accuracy: 0.8745\n",
      "Epoch 19/50\n",
      "60000/60000 [==============================] - 2s 26us/sample - loss: 0.0186 - accuracy: 0.8752\n",
      "Epoch 20/50\n",
      "60000/60000 [==============================] - 2s 26us/sample - loss: 0.0185 - accuracy: 0.8762\n",
      "Epoch 21/50\n",
      "60000/60000 [==============================] - 2s 27us/sample - loss: 0.0184 - accuracy: 0.8774\n",
      "Epoch 22/50\n",
      "60000/60000 [==============================] - 2s 26us/sample - loss: 0.0183 - accuracy: 0.8780\n",
      "Epoch 23/50\n",
      "60000/60000 [==============================] - 2s 27us/sample - loss: 0.0182 - accuracy: 0.8783\n",
      "Epoch 24/50\n",
      "60000/60000 [==============================] - 2s 27us/sample - loss: 0.0181 - accuracy: 0.8783\n",
      "Epoch 25/50\n",
      "60000/60000 [==============================] - 2s 27us/sample - loss: 0.0180 - accuracy: 0.8798\n",
      "Epoch 26/50\n",
      "60000/60000 [==============================] - 2s 27us/sample - loss: 0.0179 - accuracy: 0.8803\n",
      "Epoch 27/50\n",
      "60000/60000 [==============================] - 2s 27us/sample - loss: 0.0179 - accuracy: 0.8804\n",
      "Epoch 28/50\n",
      "60000/60000 [==============================] - 2s 27us/sample - loss: 0.0178 - accuracy: 0.8806\n",
      "Epoch 29/50\n",
      "60000/60000 [==============================] - 2s 30us/sample - loss: 0.0178 - accuracy: 0.8821\n",
      "Epoch 30/50\n",
      "60000/60000 [==============================] - 2s 36us/sample - loss: 0.0177 - accuracy: 0.8819\n",
      "Epoch 31/50\n",
      "60000/60000 [==============================] - 2s 31us/sample - loss: 0.0176 - accuracy: 0.8824\n",
      "Epoch 32/50\n",
      "60000/60000 [==============================] - 2s 30us/sample - loss: 0.0175 - accuracy: 0.8836\n",
      "Epoch 33/50\n",
      "60000/60000 [==============================] - 2s 30us/sample - loss: 0.0175 - accuracy: 0.8830\n",
      "Epoch 34/50\n",
      "60000/60000 [==============================] - 2s 27us/sample - loss: 0.0174 - accuracy: 0.8840\n",
      "Epoch 35/50\n",
      "60000/60000 [==============================] - 2s 28us/sample - loss: 0.0173 - accuracy: 0.8849\n",
      "Epoch 36/50\n",
      "60000/60000 [==============================] - 2s 27us/sample - loss: 0.0172 - accuracy: 0.8856\n",
      "Epoch 37/50\n",
      "60000/60000 [==============================] - 2s 28us/sample - loss: 0.0172 - accuracy: 0.8855\n",
      "Epoch 38/50\n",
      "60000/60000 [==============================] - 2s 27us/sample - loss: 0.0171 - accuracy: 0.8863\n",
      "Epoch 39/50\n",
      "60000/60000 [==============================] - 2s 27us/sample - loss: 0.0170 - accuracy: 0.8865\n",
      "Epoch 40/50\n",
      "60000/60000 [==============================] - 2s 31us/sample - loss: 0.0170 - accuracy: 0.8871\n",
      "Epoch 41/50\n",
      "60000/60000 [==============================] - 3s 45us/sample - loss: 0.0169 - accuracy: 0.8874\n",
      "Epoch 42/50\n",
      "60000/60000 [==============================] - 2s 37us/sample - loss: 0.0168 - accuracy: 0.8876\n",
      "Epoch 43/50\n",
      "60000/60000 [==============================] - 2s 27us/sample - loss: 0.0168 - accuracy: 0.8879\n",
      "Epoch 44/50\n",
      "60000/60000 [==============================] - 2s 28us/sample - loss: 0.0167 - accuracy: 0.8893\n",
      "Epoch 45/50\n",
      "60000/60000 [==============================] - 2s 27us/sample - loss: 0.0167 - accuracy: 0.8895\n",
      "Epoch 46/50\n",
      "60000/60000 [==============================] - 2s 28us/sample - loss: 0.0166 - accuracy: 0.8894\n",
      "Epoch 47/50\n",
      "60000/60000 [==============================] - 2s 27us/sample - loss: 0.0165 - accuracy: 0.8900\n",
      "Epoch 48/50\n",
      "60000/60000 [==============================] - 2s 28us/sample - loss: 0.0165 - accuracy: 0.8902\n",
      "Epoch 49/50\n",
      "60000/60000 [==============================] - 2s 27us/sample - loss: 0.0165 - accuracy: 0.8909\n",
      "Epoch 50/50\n",
      "60000/60000 [==============================] - 2s 27us/sample - loss: 0.0164 - accuracy: 0.8917\n"
     ]
    },
    {
     "data": {
      "text/plain": [
       "<tensorflow.python.keras.callbacks.History at 0x1a900476ba8>"
      ]
     },
     "execution_count": 30,
     "metadata": {},
     "output_type": "execute_result"
    }
   ],
   "source": [
    "model.fit(x_train, y_train, batch_size=100, epochs=50)"
   ]
  },
  {
   "cell_type": "markdown",
   "metadata": {},
   "source": [
    "# 6. 訓練成果"
   ]
  },
  {
   "cell_type": "code",
   "execution_count": 31,
   "metadata": {},
   "outputs": [],
   "source": [
    "result = model.predict_classes(x_test)"
   ]
  },
  {
   "cell_type": "code",
   "execution_count": 32,
   "metadata": {},
   "outputs": [
    {
     "name": "stdout",
     "output_type": "stream",
     "text": [
      "神經網路預測是: Sneaker\n"
     ]
    },
    {
     "data": {
      "text/plain": [
       "<matplotlib.image.AxesImage at 0x1a9004c6cc0>"
      ]
     },
     "execution_count": 32,
     "metadata": {},
     "output_type": "execute_result"
    },
    {
     "data": {
      "image/png": "[encoded data removed]",
      "text/plain": [
       "<Figure size 432x288 with 1 Axes>"
      ]
     },
     "metadata": {},
     "output_type": "display_data"
    }
   ],
   "source": [
    "n = 999\n",
    "\n",
    "print('神經網路預測是:', class_names[result[n]])\n",
    "plt.imshow(x_test[n].reshape(28,28), cmap='Greys')"
   ]
  },
  {
   "cell_type": "code",
   "execution_count": null,
   "metadata": {},
   "outputs": [],
   "source": []
  }
 ],
 "metadata": {
  "kernelspec": {
   "display_name": "Python 3",
   "language": "python",
   "name": "python3"
  },
  "language_info": {
   "codemirror_mode": {
    "name": "ipython",
    "version": 3
   },
   "file_extension": ".py",
   "mimetype": "text/x-python",
   "name": "python",
   "nbconvert_exporter": "python",
   "pygments_lexer": "ipython3",
   "version": "3.6.5"
  }
 },
 "nbformat": 4,
 "nbformat_minor": 2
}
