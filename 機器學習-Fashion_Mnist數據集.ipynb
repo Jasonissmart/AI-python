{
 "cells": [
  {
   "cell_type": "markdown",
   "metadata": {},
   "source": [
    "# 增加學習層數至五層及調整lerning Rate至0.1"
   ]
  },
  {
   "cell_type": "code",
   "execution_count": 1,
   "metadata": {},
   "outputs": [],
   "source": [
    "%matplotlib inline\n",
    "\n",
    "import numpy as np\n",
    "import matplotlib.pyplot as plt"
   ]
  },
  {
   "cell_type": "markdown",
   "metadata": {},
   "source": [
    "# 1. 讀入 Fashion MNSIT 數據集"
   ]
  },
  {
   "cell_type": "code",
   "execution_count": 2,
   "metadata": {},
   "outputs": [],
   "source": [
    "from tensorflow.keras.datasets import fashion_mnist"
   ]
  },
  {
   "cell_type": "code",
   "execution_count": 3,
   "metadata": {},
   "outputs": [],
   "source": [
    "(x_train, y_train), (x_test, y_test) = fashion_mnist.load_data()"
   ]
  },
  {
   "cell_type": "markdown",
   "metadata": {},
   "source": [
    "# 2. 欣賞數據集內容"
   ]
  },
  {
   "cell_type": "code",
   "execution_count": 4,
   "metadata": {},
   "outputs": [],
   "source": [
    "class_names = ['T-shirt/top', 'Trouser', 'Pullover', 'Dress', 'Coat',\n",
    "               'Sandal', 'Shirt', 'Sneaker', 'Bag', 'Ankle boot']"
   ]
  },
  {
   "cell_type": "code",
   "execution_count": 5,
   "metadata": {},
   "outputs": [
    {
     "name": "stdout",
     "output_type": "stream",
     "text": [
      "這是 Bag\n"
     ]
    },
    {
     "data": {
      "text/plain": [
       "<matplotlib.image.AxesImage at 0x127aca3c668>"
      ]
     },
     "execution_count": 5,
     "metadata": {},
     "output_type": "execute_result"
    },
    {
     "data": {
      "image/png": "[encoded data removed]",
      "text/plain": [
       "<Figure size 432x288 with 1 Axes>"
      ]
     },
     "metadata": {},
     "output_type": "display_data"
    }
   ],
   "source": [
    "n = 1234\n",
    "print('這是',class_names[y_train[n]])\n",
    "plt.imshow(x_train[n], cmap='Greys')"
   ]
  },
  {
   "cell_type": "code",
   "execution_count": 6,
   "metadata": {},
   "outputs": [
    {
     "data": {
      "image/png": "[encoded data removed]",
      "text/plain": [
       "<Figure size 432x288 with 5 Axes>"
      ]
     },
     "metadata": {},
     "output_type": "display_data"
    }
   ],
   "source": [
    "pick = np.random.choice(60000, 5, replace=False)\n",
    "\n",
    "for i in range(5):\n",
    "    n = pick[i]\n",
    "    ax = plt.subplot(151+i)  #1 row & 5 col & current position is 1\n",
    "    ax.set_xticks([])\n",
    "    ax.set_yticks([])\n",
    "    ax.set_title(class_names[y_train[n]], fontsize=10)\n",
    "    plt.imshow(x_train[n], cmap='Greys')"
   ]
  },
  {
   "cell_type": "code",
   "execution_count": 7,
   "metadata": {},
   "outputs": [
    {
     "data": {
      "text/plain": [
       "60000"
      ]
     },
     "execution_count": 7,
     "metadata": {},
     "output_type": "execute_result"
    }
   ],
   "source": [
    "len(x_train)"
   ]
  },
  {
   "cell_type": "code",
   "execution_count": 8,
   "metadata": {},
   "outputs": [
    {
     "data": {
      "text/plain": [
       "10000"
      ]
     },
     "execution_count": 8,
     "metadata": {},
     "output_type": "execute_result"
    }
   ],
   "source": [
    "len(x_test)"
   ]
  },
  {
   "cell_type": "code",
   "execution_count": 9,
   "metadata": {},
   "outputs": [
    {
     "data": {
      "text/plain": [
       "(60000, 28, 28)"
      ]
     },
     "execution_count": 9,
     "metadata": {},
     "output_type": "execute_result"
    }
   ],
   "source": [
    "x_train.shape"
   ]
  },
  {
   "cell_type": "code",
   "execution_count": 10,
   "metadata": {
    "scrolled": true
   },
   "outputs": [
    {
     "data": {
      "text/plain": [
       "(60000,)"
      ]
     },
     "execution_count": 10,
     "metadata": {},
     "output_type": "execute_result"
    }
   ],
   "source": [
    "y_train.shape"
   ]
  },
  {
   "cell_type": "code",
   "execution_count": 11,
   "metadata": {
    "scrolled": true
   },
   "outputs": [
    {
     "data": {
      "text/plain": [
       "784"
      ]
     },
     "execution_count": 11,
     "metadata": {},
     "output_type": "execute_result"
    }
   ],
   "source": [
    "28*28"
   ]
  },
  {
   "cell_type": "code",
   "execution_count": 12,
   "metadata": {},
   "outputs": [
    {
     "data": {
      "text/plain": [
       "255"
      ]
     },
     "execution_count": 12,
     "metadata": {},
     "output_type": "execute_result"
    }
   ],
   "source": [
    "np.max(x_train[n]) #最大像素"
   ]
  },
  {
   "cell_type": "code",
   "execution_count": 13,
   "metadata": {},
   "outputs": [
    {
     "name": "stdout",
     "output_type": "stream",
     "text": [
      "{0, 1, 2, 3, 4, 5, 6, 7, 8, 9}\n"
     ]
    }
   ],
   "source": [
    "print(set(y_train))#有幾類"
   ]
  },
  {
   "cell_type": "markdown",
   "metadata": {},
   "source": [
    "# 資料處理"
   ]
  },
  {
   "cell_type": "code",
   "execution_count": 14,
   "metadata": {},
   "outputs": [],
   "source": [
    "x_train = x_train.reshape(len(x_train), 784)"
   ]
  },
  {
   "cell_type": "code",
   "execution_count": 15,
   "metadata": {},
   "outputs": [],
   "source": [
    "x_test = x_test.reshape(len(x_test),784)"
   ]
  },
  {
   "cell_type": "code",
   "execution_count": 16,
   "metadata": {},
   "outputs": [],
   "source": [
    "x_train = x_train/255\n",
    "x_test = x_test/255"
   ]
  },
  {
   "cell_type": "code",
   "execution_count": 17,
   "metadata": {},
   "outputs": [],
   "source": [
    "from tensorflow.keras.utils import to_categorical"
   ]
  },
  {
   "cell_type": "code",
   "execution_count": 18,
   "metadata": {},
   "outputs": [],
   "source": [
    "y_train = to_categorical(y_train, 10)\n",
    "y_test = to_categorical(y_test, 10)"
   ]
  },
  {
   "cell_type": "markdown",
   "metadata": {},
   "source": [
    "# 打造神經網路"
   ]
  },
  {
   "cell_type": "code",
   "execution_count": 19,
   "metadata": {},
   "outputs": [],
   "source": [
    "from tensorflow.keras.models import Sequential\n",
    "from tensorflow.keras.layers import Dense\n",
    "from tensorflow.keras.optimizers import SGD"
   ]
  },
  {
   "cell_type": "code",
   "execution_count": 20,
   "metadata": {},
   "outputs": [],
   "source": [
    "model = Sequential()"
   ]
  },
  {
   "cell_type": "code",
   "execution_count": 21,
   "metadata": {},
   "outputs": [],
   "source": [
    "model.add(Dense(100, input_dim=784, activation='relu'))"
   ]
  },
  {
   "cell_type": "code",
   "execution_count": 22,
   "metadata": {},
   "outputs": [],
   "source": [
    "model.add(Dense(100, activation='relu'))"
   ]
  },
  {
   "cell_type": "code",
   "execution_count": 23,
   "metadata": {},
   "outputs": [],
   "source": [
    "model.add(Dense(100, activation='relu'))"
   ]
  },
  {
   "cell_type": "code",
   "execution_count": 24,
   "metadata": {},
   "outputs": [],
   "source": [
    "model.add(Dense(100, activation='relu'))"
   ]
  },
  {
   "cell_type": "code",
   "execution_count": 25,
   "metadata": {},
   "outputs": [],
   "source": [
    "model.add(Dense(100, activation='relu'))"
   ]
  },
  {
   "cell_type": "code",
   "execution_count": 26,
   "metadata": {},
   "outputs": [],
   "source": [
    "model.add(Dense(10, activation='softmax'))"
   ]
  },
  {
   "cell_type": "markdown",
   "metadata": {},
   "source": [
    "# 4. 組裝我們的神經網路"
   ]
  },
  {
   "cell_type": "code",
   "execution_count": 27,
   "metadata": {},
   "outputs": [],
   "source": [
    "model.compile(loss='mse', optimizer=SGD(lr=0.01), metrics=['accuracy']) #metrics用來告訴訓練時的正確率"
   ]
  },
  {
   "cell_type": "code",
   "execution_count": 28,
   "metadata": {},
   "outputs": [
    {
     "name": "stdout",
     "output_type": "stream",
     "text": [
      "Model: \"sequential\"\n",
      "_________________________________________________________________\n",
      "Layer (type)                 Output Shape              Param #   \n",
      "=================================================================\n",
      "dense (Dense)                (None, 100)               78500     \n",
      "_________________________________________________________________\n",
      "dense_1 (Dense)              (None, 100)               10100     \n",
      "_________________________________________________________________\n",
      "dense_2 (Dense)              (None, 100)               10100     \n",
      "_________________________________________________________________\n",
      "dense_3 (Dense)              (None, 100)               10100     \n",
      "_________________________________________________________________\n",
      "dense_4 (Dense)              (None, 100)               10100     \n",
      "_________________________________________________________________\n",
      "dense_5 (Dense)              (None, 10)                1010      \n",
      "=================================================================\n",
      "Total params: 119,910\n",
      "Trainable params: 119,910\n",
      "Non-trainable params: 0\n",
      "_________________________________________________________________\n"
     ]
    }
   ],
   "source": [
    "model.summary()"
   ]
  },
  {
   "cell_type": "code",
   "execution_count": 29,
   "metadata": {},
   "outputs": [
    {
     "data": {
      "text/plain": [
       "78500"
      ]
     },
     "execution_count": 29,
     "metadata": {},
     "output_type": "execute_result"
    }
   ],
   "source": [
    "100*784+100"
   ]
  },
  {
   "cell_type": "markdown",
   "metadata": {},
   "source": [
    "# 5. 訓練"
   ]
  },
  {
   "cell_type": "code",
   "execution_count": 30,
   "metadata": {},
   "outputs": [
    {
     "name": "stdout",
     "output_type": "stream",
     "text": [
      "Train on 60000 samples\n",
      "Epoch 1/50\n",
      "60000/60000 [==============================] - 3s 44us/sample - loss: 0.0899 - accuracy: 0.1033\n",
      "Epoch 2/50\n",
      "60000/60000 [==============================] - 2s 34us/sample - loss: 0.0895 - accuracy: 0.1203\n",
      "Epoch 3/50\n",
      "60000/60000 [==============================] - 2s 36us/sample - loss: 0.0891 - accuracy: 0.1642\n",
      "Epoch 4/50\n",
      "60000/60000 [==============================] - 2s 34us/sample - loss: 0.0886 - accuracy: 0.1827\n",
      "Epoch 5/50\n",
      "60000/60000 [==============================] - 2s 33us/sample - loss: 0.0880 - accuracy: 0.1829\n",
      "Epoch 6/50\n",
      "60000/60000 [==============================] - 2s 34us/sample - loss: 0.0872 - accuracy: 0.1824\n",
      "Epoch 7/50\n",
      "60000/60000 [==============================] - 2s 33us/sample - loss: 0.0860 - accuracy: 0.1920\n",
      "Epoch 8/50\n",
      "60000/60000 [==============================] - 2s 34us/sample - loss: 0.0846 - accuracy: 0.2210\n",
      "Epoch 9/50\n",
      "60000/60000 [==============================] - 2s 34us/sample - loss: 0.0828 - accuracy: 0.2700\n",
      "Epoch 10/50\n",
      "60000/60000 [==============================] - 2s 34us/sample - loss: 0.0809 - accuracy: 0.3316\n",
      "Epoch 11/50\n",
      "60000/60000 [==============================] - 2s 34us/sample - loss: 0.0788 - accuracy: 0.3932\n",
      "Epoch 12/50\n",
      "60000/60000 [==============================] - 2s 33us/sample - loss: 0.0764 - accuracy: 0.4382\n",
      "Epoch 13/50\n",
      "60000/60000 [==============================] - 2s 35us/sample - loss: 0.0736 - accuracy: 0.4845\n",
      "Epoch 14/50\n",
      "60000/60000 [==============================] - 2s 36us/sample - loss: 0.0703 - accuracy: 0.5160\n",
      "Epoch 15/50\n",
      "60000/60000 [==============================] - 2s 35us/sample - loss: 0.0666 - accuracy: 0.5281\n",
      "Epoch 16/50\n",
      "60000/60000 [==============================] - 2s 36us/sample - loss: 0.0628 - accuracy: 0.5349\n",
      "Epoch 17/50\n",
      "60000/60000 [==============================] - 2s 34us/sample - loss: 0.0594 - accuracy: 0.5443\n",
      "Epoch 18/50\n",
      "60000/60000 [==============================] - 2s 35us/sample - loss: 0.0566 - accuracy: 0.5541\n",
      "Epoch 19/50\n",
      "60000/60000 [==============================] - 2s 34us/sample - loss: 0.0543 - accuracy: 0.5623\n",
      "Epoch 20/50\n",
      "60000/60000 [==============================] - 2s 35us/sample - loss: 0.0522 - accuracy: 0.5920\n",
      "Epoch 21/50\n",
      "60000/60000 [==============================] - 2s 34us/sample - loss: 0.0501 - accuracy: 0.6394\n",
      "Epoch 22/50\n",
      "60000/60000 [==============================] - ETA: 0s - loss: 0.0482 - accuracy: 0.65 - 2s 35us/sample - loss: 0.0482 - accuracy: 0.6549\n",
      "Epoch 23/50\n",
      "60000/60000 [==============================] - 2s 38us/sample - loss: 0.0463 - accuracy: 0.6616\n",
      "Epoch 24/50\n",
      "60000/60000 [==============================] - 2s 35us/sample - loss: 0.0447 - accuracy: 0.6677\n",
      "Epoch 25/50\n",
      "60000/60000 [==============================] - 2s 34us/sample - loss: 0.0432 - accuracy: 0.6737\n",
      "Epoch 26/50\n",
      "60000/60000 [==============================] - 2s 35us/sample - loss: 0.0420 - accuracy: 0.6819\n",
      "Epoch 27/50\n",
      "60000/60000 [==============================] - 2s 37us/sample - loss: 0.0410 - accuracy: 0.6920\n",
      "Epoch 28/50\n",
      "60000/60000 [==============================] - 2s 36us/sample - loss: 0.0401 - accuracy: 0.7015\n",
      "Epoch 29/50\n",
      "60000/60000 [==============================] - 2s 35us/sample - loss: 0.0393 - accuracy: 0.7111\n",
      "Epoch 30/50\n",
      "60000/60000 [==============================] - 2s 36us/sample - loss: 0.0385 - accuracy: 0.7189\n",
      "Epoch 31/50\n",
      "60000/60000 [==============================] - 2s 38us/sample - loss: 0.0378 - accuracy: 0.7265\n",
      "Epoch 32/50\n",
      "60000/60000 [==============================] - 2s 39us/sample - loss: 0.0372 - accuracy: 0.7330\n",
      "Epoch 33/50\n",
      "60000/60000 [==============================] - 2s 36us/sample - loss: 0.0366 - accuracy: 0.7392\n",
      "Epoch 34/50\n",
      "60000/60000 [==============================] - 2s 34us/sample - loss: 0.0360 - accuracy: 0.7442\n",
      "Epoch 35/50\n",
      "60000/60000 [==============================] - 2s 35us/sample - loss: 0.0354 - accuracy: 0.7497\n",
      "Epoch 36/50\n",
      "60000/60000 [==============================] - 2s 34us/sample - loss: 0.0348 - accuracy: 0.7553\n",
      "Epoch 37/50\n",
      "60000/60000 [==============================] - 2s 36us/sample - loss: 0.0343 - accuracy: 0.7611\n",
      "Epoch 38/50\n",
      "60000/60000 [==============================] - 2s 34us/sample - loss: 0.0337 - accuracy: 0.7660\n",
      "Epoch 39/50\n",
      "60000/60000 [==============================] - 2s 35us/sample - loss: 0.0332 - accuracy: 0.7713\n",
      "Epoch 40/50\n",
      "60000/60000 [==============================] - 2s 34us/sample - loss: 0.0328 - accuracy: 0.7757\n",
      "Epoch 41/50\n",
      "60000/60000 [==============================] - 2s 35us/sample - loss: 0.0323 - accuracy: 0.7802\n",
      "Epoch 42/50\n",
      "60000/60000 [==============================] - 2s 35us/sample - loss: 0.0318 - accuracy: 0.7851\n",
      "Epoch 43/50\n",
      "60000/60000 [==============================] - 3s 42us/sample - loss: 0.0314 - accuracy: 0.7881\n",
      "Epoch 44/50\n",
      "60000/60000 [==============================] - 3s 42us/sample - loss: 0.0310 - accuracy: 0.7922\n",
      "Epoch 45/50\n",
      "60000/60000 [==============================] - 2s 41us/sample - loss: 0.0306 - accuracy: 0.7947\n",
      "Epoch 46/50\n",
      "60000/60000 [==============================] - 2s 36us/sample - loss: 0.0302 - accuracy: 0.7980\n",
      "Epoch 47/50\n",
      "60000/60000 [==============================] - 2s 34us/sample - loss: 0.0298 - accuracy: 0.8015\n",
      "Epoch 48/50\n",
      "60000/60000 [==============================] - 2s 35us/sample - loss: 0.0295 - accuracy: 0.8034\n",
      "Epoch 49/50\n",
      "60000/60000 [==============================] - 2s 35us/sample - loss: 0.0291 - accuracy: 0.8059\n",
      "Epoch 50/50\n",
      "60000/60000 [==============================] - 2s 37us/sample - loss: 0.0288 - accuracy: 0.8085\n"
     ]
    },
    {
     "data": {
      "text/plain": [
       "<tensorflow.python.keras.callbacks.History at 0x127a9654978>"
      ]
     },
     "execution_count": 30,
     "metadata": {},
     "output_type": "execute_result"
    }
   ],
   "source": [
    "model.fit(x_train, y_train, batch_size=100, epochs=50)"
   ]
  },
  {
   "cell_type": "markdown",
   "metadata": {},
   "source": [
    "# 6. 訓練成果"
   ]
  },
  {
   "cell_type": "code",
   "execution_count": 31,
   "metadata": {},
   "outputs": [],
   "source": [
    "result = model.predict_classes(x_test)"
   ]
  },
  {
   "cell_type": "code",
   "execution_count": 32,
   "metadata": {},
   "outputs": [
    {
     "name": "stdout",
     "output_type": "stream",
     "text": [
      "神經網路預測是: Sneaker\n"
     ]
    },
    {
     "data": {
      "text/plain": [
       "<matplotlib.image.AxesImage at 0x127a97e8208>"
      ]
     },
     "execution_count": 32,
     "metadata": {},
     "output_type": "execute_result"
    },
    {
     "data": {
      "image/png": "[encoded data removed]",
      "text/plain": [
       "<Figure size 432x288 with 1 Axes>"
      ]
     },
     "metadata": {},
     "output_type": "display_data"
    }
   ],
   "source": [
    "n = 999\n",
    "\n",
    "print('神經網路預測是:', class_names[result[n]])\n",
    "plt.imshow(x_test[n].reshape(28,28), cmap='Greys')"
   ]
  },
  {
   "cell_type": "code",
   "execution_count": null,
   "metadata": {},
   "outputs": [],
   "source": []
  }
 ],
 "metadata": {
  "kernelspec": {
   "display_name": "Python 3",
   "language": "python",
   "name": "python3"
  },
  "language_info": {
   "codemirror_mode": {
    "name": "ipython",
    "version": 3
   },
   "file_extension": ".py",
   "mimetype": "text/x-python",
   "name": "python",
   "nbconvert_exporter": "python",
   "pygments_lexer": "ipython3",
   "version": "3.6.5"
  }
 },
 "nbformat": 4,
 "nbformat_minor": 2
}
