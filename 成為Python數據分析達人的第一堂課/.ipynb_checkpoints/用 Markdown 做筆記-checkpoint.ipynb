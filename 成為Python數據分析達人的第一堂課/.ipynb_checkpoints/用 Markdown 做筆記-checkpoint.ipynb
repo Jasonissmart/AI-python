{
 "cells": [
  {
   "cell_type": "markdown",
   "metadata": {},
   "source": [
    "自由做筆記!"
   ]
  },
  {
   "cell_type": "markdown",
   "metadata": {},
   "source": [
    "# 大標題\n",
    "## 小標題\n",
    "內文"
   ]
  },
  {
   "cell_type": "markdown",
   "metadata": {},
   "source": [
    "## 分項說明\n",
    "* Python\n",
    "* Jupyter notebook\n",
    "* Numpy \n",
    "* Pandas\n",
    "* Matplotlib"
   ]
  },
  {
   "cell_type": "markdown",
   "metadata": {},
   "source": [
    "# Markdown 切換快速鍵 CTRL + m 後再按一次m\n",
    "# Code 切換快速鍵 CTRL + m 後再按一次 Y"
   ]
  },
  {
   "cell_type": "markdown",
   "metadata": {},
   "source": [
    "## 連結\n",
    "\n",
    "[政大INCCU](https://i.nccu.edu.tw/Home.aspx)\n",
    "\n",
    "名稱中括號/網址小括號"
   ]
  },
  {
   "cell_type": "markdown",
   "metadata": {},
   "source": [
    "## 插入圖片\n",
    "![證件照](陳韋勳.png)\n",
    "! + 中括號說明 + 小括號位置(需與這個檔案同層)\n",
    "也可顯示網路圖片"
   ]
  },
  {
   "cell_type": "markdown",
   "metadata": {},
   "source": [
    "## 打數學符號 LaTex語法\n",
    "\n",
    "* 隨文模式: 前後加$\n",
    "* 置中強調: 前後加$$\n",
    "\n",
    "我們有一個函數 $f(x)=x^3 - 2x^2 + 5$, 我想給他積分:\n",
    "$$ \\int_a^b f(x) \\, dx$$"
   ]
  },
  {
   "cell_type": "code",
   "execution_count": null,
   "metadata": {},
   "outputs": [],
   "source": []
  }
 ],
 "metadata": {
  "kernelspec": {
   "display_name": "Python 3",
   "language": "python",
   "name": "python3"
  },
  "language_info": {
   "codemirror_mode": {
    "name": "ipython",
    "version": 3
   },
   "file_extension": ".py",
   "mimetype": "text/x-python",
   "name": "python",
   "nbconvert_exporter": "python",
   "pygments_lexer": "ipython3",
   "version": "3.6.5"
  }
 },
 "nbformat": 4,
 "nbformat_minor": 2
}
