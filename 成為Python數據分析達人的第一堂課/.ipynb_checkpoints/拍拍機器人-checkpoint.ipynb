{
 "cells": [
  {
   "cell_type": "code",
   "execution_count": 1,
   "metadata": {},
   "outputs": [
    {
     "name": "stdout",
     "output_type": "stream",
     "text": [
      "Populating the interactive namespace from numpy and matplotlib\n"
     ]
    }
   ],
   "source": [
    "%pylab inline"
   ]
  },
  {
   "cell_type": "code",
   "execution_count": 2,
   "metadata": {},
   "outputs": [
    {
     "name": "stdout",
     "output_type": "stream",
     "text": [
      "今天心情好嗎??今天很開心\n",
      "恭喜!\n",
      "今天心情好嗎??今天很高興\n",
      "恭喜!\n",
      "今天心情好嗎??嗚嗚嗚\n",
      "拍拍\n",
      "今天心情好嗎??88\n",
      "Mua! Bye~~~\n"
     ]
    }
   ],
   "source": [
    "a= ' '\n",
    "byeList=['掰掰','掰','拜','拜拜','bye','88','8','Bye']\n",
    "while a not in byeList:\n",
    "    a= input('今天心情好嗎??')\n",
    "    if ('高興' in a) or ('開心' in a):\n",
    "        print('恭喜!')\n",
    "    elif a in byeList:\n",
    "        print('Mua! Bye~~~')\n",
    "    else:\n",
    "        print('拍拍')"
   ]
  },
  {
   "cell_type": "code",
   "execution_count": null,
   "metadata": {},
   "outputs": [],
   "source": []
  }
 ],
 "metadata": {
  "kernelspec": {
   "display_name": "Python 3",
   "language": "python",
   "name": "python3"
  },
  "language_info": {
   "codemirror_mode": {
    "name": "ipython",
    "version": 3
   },
   "file_extension": ".py",
   "mimetype": "text/x-python",
   "name": "python",
   "nbconvert_exporter": "python",
   "pygments_lexer": "ipython3",
   "version": "3.6.5"
  }
 },
 "nbformat": 4,
 "nbformat_minor": 2
}
