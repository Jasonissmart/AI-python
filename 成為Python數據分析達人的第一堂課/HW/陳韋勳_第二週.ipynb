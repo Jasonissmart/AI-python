{
 "cells": [
  {
   "cell_type": "markdown",
   "metadata": {},
   "source": [
    "# 第一題【猜數字遊戲】：\n",
    "## 電腦由 1 到 100 「想」一個數字。<br> 你開始猜電腦想的數字, 太大或大小電腦會告訴你, 直到猜對。"
   ]
  },
  {
   "cell_type": "code",
   "execution_count": 1,
   "metadata": {},
   "outputs": [
    {
     "name": "stdout",
     "output_type": "stream",
     "text": [
      "Populating the interactive namespace from numpy and matplotlib\n"
     ]
    }
   ],
   "source": [
    "%pylab inline"
   ]
  },
  {
   "cell_type": "code",
   "execution_count": 11,
   "metadata": {},
   "outputs": [
    {
     "name": "stdout",
     "output_type": "stream",
     "text": [
      "輸入一個1-100的數字來猜大小50\n",
      "太大囉!\n",
      "輸入一個1-100的數字來猜大小25\n",
      "太大囉!\n",
      "輸入一個1-100的數字來猜大小15\n",
      "太大囉!\n",
      "輸入一個1-100的數字來猜大小10\n",
      "太小囉!\n",
      "輸入一個1-100的數字來猜大小13\n",
      "太大囉!\n",
      "輸入一個1-100的數字來猜大小12\n",
      "答對囉! 答案是12\n"
     ]
    }
   ],
   "source": [
    "a= random.randint(1,100)\n",
    "b= 0\n",
    "\n",
    "while b!=a:\n",
    "    b= input('輸入一個1-100的數字來猜大小')\n",
    "    b=int(b)\n",
    "    if b> a:\n",
    "        print('太大囉!')\n",
    "    elif b< a:\n",
    "        print('太小囉!')\n",
    "    else:\n",
    "        print('答對囉! 答案是{}'.format(a))\n",
    "        break"
   ]
  },
  {
   "cell_type": "markdown",
   "metadata": {},
   "source": [
    "# 第二題【感恩讚嘆機器人】：\n",
    "## 請依照老師本週影片的作法，<br>製作出感恩讚嘆機器人，<br>也就是回應的格式一律是：<br>「感恩ＯＯ，讚嘆ＯＯ。」\n",
    "\n",
    "範例：\n",
    "\n",
    "「嗨，今天天氣很好，要一起去洞爺湖喝茶吃魚嗎？」\n",
    "\n",
    "『感恩炎龍，讚嘆炎龍。』"
   ]
  },
  {
   "cell_type": "code",
   "execution_count": 15,
   "metadata": {},
   "outputs": [
    {
     "name": "stdout",
     "output_type": "stream",
     "text": [
      "如何????你好厲害\n",
      "感恩北投小霸王，讚嘆北投小霸王\n",
      "如何????Bye\n",
      "感恩北投小霸王，讚嘆北投小霸王\n"
     ]
    }
   ],
   "source": [
    "a= '北投小霸王'\n",
    "b= 0\n",
    "\n",
    "while b!= 'Bye':\n",
    "    b= input('如何????')\n",
    "    print('感恩{}，讚嘆{}'.format(a, a))"
   ]
  },
  {
   "cell_type": "markdown",
   "metadata": {},
   "source": [
    "# 第三題 【寫個函數讓字串倒過來排】：\n",
    "## 寫一個函數, 比如說叫 reverse,<br>然後輸入一個字串,<br> st = “hello”reverse(“hello”)<br> 就回傳這個字串olleh’"
   ]
  },
  {
   "cell_type": "code",
   "execution_count": 23,
   "metadata": {},
   "outputs": [
    {
     "data": {
      "text/plain": [
       "'drowlooeh'"
      ]
     },
     "execution_count": 23,
     "metadata": {},
     "output_type": "execute_result"
    }
   ],
   "source": [
    "def reverse(word):\n",
    "    return word[::-1]\n",
    "reverse('heoolword')"
   ]
  },
  {
   "cell_type": "markdown",
   "metadata": {},
   "source": [
    "# 挑戰題一【天干地支】：\n",
    "\n",
    "## 年份是用天干地支<br>天干:甲乙丙丁戊己庚辛壬癸<br>地支:子醜寅卯辰巳午未申酉戌亥<br>2014年是甲午年<br>2015年是乙未年<br>…<br>輸出2014~2073是什麼年<br>"
   ]
  },
  {
   "cell_type": "code",
   "execution_count": 96,
   "metadata": {
    "scrolled": true
   },
   "outputs": [
    {
     "name": "stdout",
     "output_type": "stream",
     "text": [
      "2014是甲午年\n",
      "2015是乙未年\n",
      "2016是丙申年\n",
      "2017是丁酉年\n",
      "2018是戊戌年\n",
      "2019是己亥年\n",
      "2020是庚子年\n",
      "2021是辛醜年\n",
      "2022是壬寅年\n",
      "2023是癸卯年\n",
      "2024是甲辰年\n",
      "2025是乙巳年\n",
      "2026是丙午年\n",
      "2027是丁未年\n",
      "2028是戊申年\n",
      "2029是己酉年\n",
      "2030是庚戌年\n",
      "2031是辛亥年\n",
      "2032是壬子年\n",
      "2033是癸醜年\n",
      "2034是甲寅年\n",
      "2035是乙卯年\n",
      "2036是丙辰年\n",
      "2037是丁巳年\n",
      "2038是戊午年\n",
      "2039是己未年\n",
      "2040是庚申年\n",
      "2041是辛酉年\n",
      "2042是壬戌年\n",
      "2043是癸亥年\n",
      "2044是甲子年\n",
      "2045是乙醜年\n",
      "2046是丙寅年\n",
      "2047是丁卯年\n",
      "2048是戊辰年\n",
      "2049是己巳年\n",
      "2050是庚午年\n",
      "2051是辛未年\n",
      "2052是壬申年\n",
      "2053是癸酉年\n",
      "2054是甲戌年\n",
      "2055是乙亥年\n",
      "2056是丙子年\n",
      "2057是丁醜年\n",
      "2058是戊寅年\n",
      "2059是己卯年\n",
      "2060是庚辰年\n",
      "2061是辛巳年\n",
      "2062是壬午年\n",
      "2063是癸未年\n",
      "2064是甲申年\n",
      "2065是乙酉年\n",
      "2066是丙戌年\n",
      "2067是丁亥年\n",
      "2068是戊子年\n",
      "2069是己醜年\n",
      "2070是庚寅年\n",
      "2071是辛卯年\n",
      "2072是壬辰年\n",
      "2073是癸巳年\n"
     ]
    }
   ],
   "source": [
    "天干= list('甲乙丙丁戊己庚辛壬癸')\n",
    "地支= list('子醜寅卯辰巳午未申酉戌亥')\n",
    "year=2014\n",
    "\n",
    "# 因為2014年的地支是午，所以把地支中\"午\"的順序移到第一個\n",
    "a=地支[0:地支.index('午')]\n",
    "del 地支[0:地支.index('午')]\n",
    "地支.extend(a)  #extend會把字串變成元素；append會是元素\n",
    "\n",
    "for i in range(60):\n",
    "    upIndex= i% 10\n",
    "    downIndex= i% 12\n",
    "    \n",
    "    print('{}是{}{}年'.format(year, 天干[upIndex], 地支[downIndex]))\n",
    "    year+=1\n",
    "    "
   ]
  },
  {
   "cell_type": "markdown",
   "metadata": {},
   "source": [
    "# 挑戰題二【我有一棵樹】：\n",
    "\n",
    "## 寫個 tree 函數, 給一個數字就會畫出如下的畫面。\n",
    "\n",
    "tree(6)"
   ]
  },
  {
   "cell_type": "code",
   "execution_count": 160,
   "metadata": {},
   "outputs": [],
   "source": [
    "def tree(num):\n",
    "    num= int(num)+1\n",
    "    for i in range(1,num):\n",
    "        starnum= 2*i-1\n",
    "        spacenum= num-i+1\n",
    "        print(' '*spacenum + '\\033[32m*\\033[0m'* starnum)"
   ]
  },
  {
   "cell_type": "code",
   "execution_count": 161,
   "metadata": {},
   "outputs": [
    {
     "name": "stdout",
     "output_type": "stream",
     "text": [
      "       \u001b[32m*\u001b[0m\n",
      "      \u001b[32m*\u001b[0m\u001b[32m*\u001b[0m\u001b[32m*\u001b[0m\n",
      "     \u001b[32m*\u001b[0m\u001b[32m*\u001b[0m\u001b[32m*\u001b[0m\u001b[32m*\u001b[0m\u001b[32m*\u001b[0m\n",
      "    \u001b[32m*\u001b[0m\u001b[32m*\u001b[0m\u001b[32m*\u001b[0m\u001b[32m*\u001b[0m\u001b[32m*\u001b[0m\u001b[32m*\u001b[0m\u001b[32m*\u001b[0m\n",
      "   \u001b[32m*\u001b[0m\u001b[32m*\u001b[0m\u001b[32m*\u001b[0m\u001b[32m*\u001b[0m\u001b[32m*\u001b[0m\u001b[32m*\u001b[0m\u001b[32m*\u001b[0m\u001b[32m*\u001b[0m\u001b[32m*\u001b[0m\n",
      "  \u001b[32m*\u001b[0m\u001b[32m*\u001b[0m\u001b[32m*\u001b[0m\u001b[32m*\u001b[0m\u001b[32m*\u001b[0m\u001b[32m*\u001b[0m\u001b[32m*\u001b[0m\u001b[32m*\u001b[0m\u001b[32m*\u001b[0m\u001b[32m*\u001b[0m\u001b[32m*\u001b[0m\n"
     ]
    }
   ],
   "source": [
    "tree(6)"
   ]
  },
  {
   "cell_type": "code",
   "execution_count": null,
   "metadata": {},
   "outputs": [],
   "source": []
  }
 ],
 "metadata": {
  "kernelspec": {
   "display_name": "Python 3",
   "language": "python",
   "name": "python3"
  },
  "language_info": {
   "codemirror_mode": {
    "name": "ipython",
    "version": 3
   },
   "file_extension": ".py",
   "mimetype": "text/x-python",
   "name": "python",
   "nbconvert_exporter": "python",
   "pygments_lexer": "ipython3",
   "version": "3.6.5"
  }
 },
 "nbformat": 4,
 "nbformat_minor": 2
}
