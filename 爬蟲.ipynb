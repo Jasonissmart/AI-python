{
 "cells": [
  {
   "cell_type": "markdown",
   "metadata": {},
   "source": [
    "## 資料來源: https://michaelchen.tech/selenium/taiex-historical-data-crawler/\n",
    "## 爬取網站: https://www.twse.com.tw/zh/page/trading/indices/MFI94U.html"
   ]
  },
  {
   "cell_type": "code",
   "execution_count": 1,
   "metadata": {},
   "outputs": [],
   "source": [
    "import csv\n",
    "import os\n",
    "import sys\n",
    "import time\n",
    "import datetime\n",
    "\n",
    "from selenium import webdriver"
   ]
  },
  {
   "cell_type": "code",
   "execution_count": 2,
   "metadata": {},
   "outputs": [],
   "source": [
    "validDurations = ['YTD', '1Y', '3Y', '5Y', '10Y', 'Max']\n",
    "duration = 'YTD'"
   ]
  },
  {
   "cell_type": "code",
   "execution_count": 3,
   "metadata": {},
   "outputs": [],
   "source": [
    "now = datetime.datetime.now()\n",
    "\n",
    "year = None\n",
    "month = now.month\n",
    "\n",
    "if duration == 'YTD':\n",
    "    year = now.year\n",
    "    month = 1\n",
    "elif duration == '1Y':\n",
    "    year = now.year - 1\n",
    "elif duration == '3Y':\n",
    "    year = now.year - 3\n",
    "elif duration == '5Y':\n",
    "    year = now.year - 5\n",
    "elif duration == '10Y':\n",
    "    year = now.year - 10\n",
    "elif duration == 'Max':\n",
    "    year = 88 + 1911\n",
    "    month = 1"
   ]
  },
  {
   "cell_type": "code",
   "execution_count": 4,
   "metadata": {},
   "outputs": [],
   "source": [
    "# Create a new instance of the Chrome driver\n",
    "driver = webdriver.Chrome()"
   ]
  },
  {
   "cell_type": "code",
   "execution_count": 5,
   "metadata": {},
   "outputs": [],
   "source": [
    "# Go to TAIEX page\n",
    "driver.get(\"https://www.twse.com.tw/zh/page/trading/indices/MFI94U.html\")\n",
    "\n",
    "# Wait the page to fresh.\n",
    "time.sleep(10)"
   ]
  },
  {
   "cell_type": "code",
   "execution_count": 6,
   "metadata": {},
   "outputs": [],
   "source": [
    "queryBtn = driver.find_element_by_css_selector(\".main a\")"
   ]
  },
  {
   "cell_type": "code",
   "execution_count": 7,
   "metadata": {},
   "outputs": [],
   "source": [
    "data = []\n",
    "isEnd = False\n",
    "currYear = 2003\n",
    "currMonth = 1\n",
    "\n",
    "# Select the initial year.\n",
    "ys = driver.find_elements_by_css_selector(\"select[name=\\\"yy\\\"] option\")\n",
    "for y in ys:\n",
    "    if y.get_attribute(\"value\") == str(currYear):\n",
    "        y.click()\n",
    "        time.sleep(2)\n",
    "        break\n",
    "\n",
    "while not isEnd:\n",
    "    # Run the crawler here.\n",
    "    if currYear < now.year:\n",
    "        if currMonth <= 12:\n",
    "            ms = driver.find_elements_by_css_selector(\"select[name=\\\"mm\\\"] option\")\n",
    "\n",
    "            for m in ms:\n",
    "                if m.get_attribute(\"value\") == str(currMonth):\n",
    "                    m.click()\n",
    "                    time.sleep(2)\n",
    "                    queryBtn.click()\n",
    "                    time.sleep(3)\n",
    "\n",
    "                    items = driver.find_elements_by_css_selector(\"#report-table_wrapper tbody tr\")\n",
    "\n",
    "                    for item in items:\n",
    "                        tds = item.find_elements_by_css_selector(\"td\")\n",
    "\n",
    "                        data.append([td.text for td in tds])\n",
    "                    break\n",
    "            \n",
    "            currMonth += 1\n",
    "        else:\n",
    "            currMonth = 1\n",
    "            currYear += 1\n",
    "\n",
    "            # Update the year when one year progresses.\n",
    "            ys = driver.find_elements_by_css_selector(\"select[name=\\\"yy\\\"] option\")\n",
    "            \n",
    "            for y in ys:\n",
    "                if y.get_attribute(\"value\") == str(currYear):\n",
    "                    y.click()\n",
    "                    time.sleep(2)\n",
    "                    break\n",
    "    else:\n",
    "        if currMonth <= now.month:\n",
    "            # Crawl the website.\n",
    "            \n",
    "            currMonth += 1\n",
    "        else:\n",
    "            isEnd = True"
   ]
  },
  {
   "cell_type": "code",
   "execution_count": 8,
   "metadata": {},
   "outputs": [],
   "source": [
    "while not isEnd:   \n",
    "    if currYear < now.year:\n",
    "        if currMonth <= 12:\n",
    "            ms = driver.find_elements_by_css_selector(\"select[name=\\\"mm\\\"] option\")\n",
    "\n",
    "            for m in ms:\n",
    "                if m.get_attribute(\"value\") == str(currMonth):\n",
    "                    m.click()\n",
    "                    time.sleep(2)\n",
    "                    queryBtn.click()\n",
    "                    time.sleep(3)\n",
    "\n",
    "                    items = driver.find_elements_by_css_selector(\"#report-table_wrapper tbody tr\")\n",
    "\n",
    "                    for item in items:\n",
    "                        tds = item.find_elements_by_css_selector(\"td\")\n",
    "\n",
    "                        data.append([td.text for td in tds])\n",
    "                    break\n",
    "            \n",
    "            currMonth += 1\n",
    "        else:\n",
    "            currMonth = 1\n",
    "            currYear += 1\n",
    "\n",
    "            # Update the year when one year progresses.\n",
    "            ys = driver.find_elements_by_css_selector(\"select[name=\\\"yy\\\"] option\")\n",
    "            \n",
    "            for y in ys:\n",
    "                if y.get_attribute(\"value\") == str(currYear):\n",
    "                    y.click()\n",
    "                    time.sleep(2)\n",
    "                    break\n",
    "    else:\n",
    "        if currMonth <= now.month:\n",
    "            # Crawl the website.\n",
    "            \n",
    "            currMonth += 1\n",
    "        else:\n",
    "            isEnd = True \n",
    "    "
   ]
  },
  {
   "cell_type": "code",
   "execution_count": 9,
   "metadata": {},
   "outputs": [],
   "source": [
    "while not isEnd:   \n",
    "    if currYear < now.year:\n",
    "        if currMonth <= 12:\n",
    "            # Crawl the website.\n",
    "            \n",
    "            currMonth += 1\n",
    "        else:\n",
    "            currMonth = 1\n",
    "            currYear += 1\n",
    "\n",
    "            # Crawl the website.\n",
    "    else:\n",
    "        if currMonth <= now.month:\n",
    "            ms = driver.find_elements_by_css_selector(\"select[name=\\\"mm\\\"] option\")\n",
    "\n",
    "            for m in ms:\n",
    "                if m.get_attribute(\"value\") == str(currMonth):\n",
    "                    m.click()\n",
    "                    time.sleep(2)\n",
    "                    queryBtn.click()\n",
    "                    time.sleep(3)\n",
    "\n",
    "                    items = driver.find_elements_by_css_selector(\"#report-table_wrapper tbody tr\")\n",
    "\n",
    "                    for item in items:\n",
    "                        tds = item.find_elements_by_css_selector(\"td\")\n",
    "\n",
    "                        data.append([td.text for td in tds])\n",
    "                    break\n",
    "            \n",
    "            currMonth += 1\n",
    "        else:\n",
    "            isEnd = True"
   ]
  },
  {
   "cell_type": "code",
   "execution_count": 10,
   "metadata": {},
   "outputs": [],
   "source": [
    "def monToStr(m):\n",
    "    if m < 10:\n",
    "        return '0' + str(m)\n",
    "    else:\n",
    "        return str(m)\n",
    "\n",
    "pastDateStr = \"%d%s\" % (year, monToStr(month))\n",
    "currDateStr = \"%d%s\" % (now.year, monToStr(now.month))"
   ]
  },
  {
   "cell_type": "code",
   "execution_count": 11,
   "metadata": {},
   "outputs": [],
   "source": [
    "with open(\"台灣發行量加權股價報酬指數_%sto%s.csv\" % (pastDateStr, currDateStr), 'w', newline='') as csvfile:\n",
    "    csvwriter = csv.writer(csvfile)\n",
    "\n",
    "    csvwriter.writerow([\"Date\", \"發行量加權股價報酬指數\"])\n",
    "\n",
    "    for d in data:\n",
    "        csvwriter.writerow(d)"
   ]
  },
  {
   "cell_type": "code",
   "execution_count": 12,
   "metadata": {},
   "outputs": [],
   "source": [
    "# Close the browser.\n",
    "driver.quit()"
   ]
  },
  {
   "cell_type": "code",
   "execution_count": null,
   "metadata": {},
   "outputs": [],
   "source": []
  },
  {
   "cell_type": "code",
   "execution_count": null,
   "metadata": {},
   "outputs": [],
   "source": []
  },
  {
   "cell_type": "code",
   "execution_count": null,
   "metadata": {},
   "outputs": [],
   "source": []
  },
  {
   "cell_type": "code",
   "execution_count": null,
   "metadata": {},
   "outputs": [],
   "source": []
  },
  {
   "cell_type": "code",
   "execution_count": null,
   "metadata": {},
   "outputs": [],
   "source": []
  },
  {
   "cell_type": "code",
   "execution_count": null,
   "metadata": {},
   "outputs": [],
   "source": []
  }
 ],
 "metadata": {
  "kernelspec": {
   "display_name": "Python 3",
   "language": "python",
   "name": "python3"
  },
  "language_info": {
   "codemirror_mode": {
    "name": "ipython",
    "version": 3
   },
   "file_extension": ".py",
   "mimetype": "text/x-python",
   "name": "python",
   "nbconvert_exporter": "python",
   "pygments_lexer": "ipython3",
   "version": "3.6.5"
  }
 },
 "nbformat": 4,
 "nbformat_minor": 2
}
