{
 "cells": [
  {
   "cell_type": "code",
   "execution_count": 1,
   "metadata": {},
   "outputs": [
    {
     "ename": "SyntaxError",
     "evalue": "Missing parentheses in call to 'print'. Did you mean print(\"邮件发送成功\")? (<ipython-input-1-8524eff0ffcc>, line 35)",
     "output_type": "error",
     "traceback": [
      "\u001b[1;36m  File \u001b[1;32m\"<ipython-input-1-8524eff0ffcc>\"\u001b[1;36m, line \u001b[1;32m35\u001b[0m\n\u001b[1;33m    print \"邮件发送成功\"\u001b[0m\n\u001b[1;37m                 ^\u001b[0m\n\u001b[1;31mSyntaxError\u001b[0m\u001b[1;31m:\u001b[0m Missing parentheses in call to 'print'. Did you mean print(\"邮件发送成功\")?\n"
     ]
    }
   ],
   "source": [
    "import smtplib\n",
    "from email.mime.text import MIMEText\n",
    "from email.mime.multipart import MIMEMultipart\n",
    "from email.header import Header\n",
    " \n",
    "sender = 'jasonchen870205@gmail.com'\n",
    "receivers = ['jasonchen870205@gmail.com']  # 接收邮件，可设置为你的QQ邮箱或者其他邮箱\n",
    " \n",
    "#创建一个带附件的实例\n",
    "message = MIMEMultipart()\n",
    "message['From'] = Header(\"菜鸟教程\", 'utf-8')\n",
    "message['To'] =  Header(\"测试\", 'utf-8')\n",
    "subject = 'Python SMTP 邮件测试'\n",
    "message['Subject'] = Header(subject, 'utf-8')\n",
    " \n",
    "#邮件正文内容\n",
    "message.attach(MIMEText('这是菜鸟教程Python 邮件发送测试……', 'plain', 'utf-8'))\n",
    " \n",
    "# 构造附件1，传送当前目录下的 test.txt 文件\n",
    "att1 = MIMEText(open('test.txt', 'rb').read(), 'base64', 'utf-8')\n",
    "att1[\"Content-Type\"] = 'application/octet-stream'\n",
    "# 这里的filename可以任意写，写什么名字，邮件中显示什么名字\n",
    "att1[\"Content-Disposition\"] = 'attachment; filename=\"test.txt\"'\n",
    "message.attach(att1)\n",
    " \n",
    "# 构造附件2，传送当前目录下的 runoob.txt 文件\n",
    "att2 = MIMEText(open('runoob.txt', 'rb').read(), 'base64', 'utf-8')\n",
    "att2[\"Content-Type\"] = 'application/octet-stream'\n",
    "att2[\"Content-Disposition\"] = 'attachment; filename=\"runoob.txt\"'\n",
    "message.attach(att2)\n",
    " \n",
    "try:\n",
    "    smtpObj = smtplib.SMTP('localhost')\n",
    "    smtpObj.sendmail(sender, receivers, message.as_string())\n",
    "    print \"邮件发送成功\"\n",
    "except smtplib.SMTPException:\n",
    "    print \"Error: 无法发送邮件\""
   ]
  },
  {
   "cell_type": "code",
   "execution_count": null,
   "metadata": {},
   "outputs": [],
   "source": []
  }
 ],
 "metadata": {
  "kernelspec": {
   "display_name": "Python 3",
   "language": "python",
   "name": "python3"
  },
  "language_info": {
   "codemirror_mode": {
    "name": "ipython",
    "version": 3
   },
   "file_extension": ".py",
   "mimetype": "text/x-python",
   "name": "python",
   "nbconvert_exporter": "python",
   "pygments_lexer": "ipython3",
   "version": "3.6.5"
  }
 },
 "nbformat": 4,
 "nbformat_minor": 2
}
