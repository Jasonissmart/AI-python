{
 "cells": [
  {
   "cell_type": "markdown",
   "metadata": {},
   "source": [
    "# 從config.ini讀取各參數"
   ]
  },
  {
   "cell_type": "code",
   "execution_count": 3,
   "metadata": {},
   "outputs": [
    {
     "name": "stdout",
     "output_type": "stream",
     "text": [
      "dataFileName:dataFile.csv\n",
      "Instrument:Zero\n",
      "nrofcoup:1.0\n",
      "CRA:0.0\n",
      "UFRac:0.038\n",
      "alfamin:0.05\n",
      "Tau:1.0\n",
      "T2:40.0\n",
      "rateType:spot\n"
     ]
    },
    {
     "data": {
      "text/plain": [
       "'config.set(\"Parameter\",\"instrument\",str(swanrt_en_val))\\nconfig.set(\"Parameter\",\"cra\",str(swCRA_en_val))\\nconfig.set(\"Parameter\",\"ufrac\",str(swUFR_en_val))\\nconfig.set(\"Parameter\",\"alfamin\",str(swminal_en_val))\\nconfig.set(\"Parameter\",\"t2\",str(swconvT_en_val))\\nconfig.write(open(\"config.ini\",\"w\"))    #寫入的動作'"
      ]
     },
     "execution_count": 3,
     "metadata": {},
     "output_type": "execute_result"
    }
   ],
   "source": [
    "import configparser   #來存取ini文檔\n",
    "\n",
    "config = configparser.ConfigParser()     # 創建對象\n",
    "config.read('config.ini', encoding='utf-8')\n",
    "\n",
    "# Read Parameter \n",
    "dataFileName = config.get('Parameter', 'DataFileName')\n",
    "Instrument = config.get('Parameter', 'Instrument')\n",
    "nrofcoup = float(config.get('Parameter', 'Nrofcoup'))\n",
    "CRA = float(config.get('Parameter', 'CRA'))\n",
    "UFRac = float(config.get('Parameter', 'UFRac'))\n",
    "alfamin = float(config.get('Parameter', 'Alfamin'))\n",
    "Tau = float(config.get('Parameter', 'Tau'))\n",
    "T2 = float(config.get('Parameter', 'T2'))\n",
    "rateType = config.get('Parameter', 'RateType')\n",
    "\n",
    "print('dataFileName:' + str(dataFileName))\n",
    "print('Instrument:' + str(Instrument))\n",
    "print('nrofcoup:' + str(nrofcoup))\n",
    "print('CRA:' + str(CRA))\n",
    "print('UFRac:' + str(UFRac))\n",
    "print('alfamin:' + str(alfamin))\n",
    "print('Tau:' + str(Tau))\n",
    "print('T2:' + str(T2))\n",
    "print('rateType:' + str(rateType))\n",
    "\n",
    "# Change parameters \n",
    "swanrt_en_val=0\n",
    "swCRA_en_val=0\n",
    "swUFR_en_val=0\n",
    "swconvT_en_val=0\n",
    "\n",
    "'''config.set(\"Parameter\",\"instrument\",str(swanrt_en_val))\n",
    "config.set(\"Parameter\",\"cra\",str(swCRA_en_val))\n",
    "config.set(\"Parameter\",\"ufrac\",str(swUFR_en_val))\n",
    "config.set(\"Parameter\",\"alfamin\",str(swminal_en_val))\n",
    "config.set(\"Parameter\",\"t2\",str(swconvT_en_val))\n",
    "config.write(open(\"config.ini\",\"w\"))    #寫入的動作'''\n"
   ]
  },
  {
   "cell_type": "code",
   "execution_count": null,
   "metadata": {},
   "outputs": [],
   "source": []
  }
 ],
 "metadata": {
  "kernelspec": {
   "display_name": "Python 3",
   "language": "python",
   "name": "python3"
  },
  "language_info": {
   "codemirror_mode": {
    "name": "ipython",
    "version": 3
   },
   "file_extension": ".py",
   "mimetype": "text/x-python",
   "name": "python",
   "nbconvert_exporter": "python",
   "pygments_lexer": "ipython3",
   "version": "3.6.5"
  }
 },
 "nbformat": 4,
 "nbformat_minor": 2
}
