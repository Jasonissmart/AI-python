{
 "cells": [
  {
   "cell_type": "code",
   "execution_count": 1,
   "metadata": {},
   "outputs": [],
   "source": [
    "from os import listdir\n",
    "import numpy as np\n",
    "import pandas as pd"
   ]
  },
  {
   "cell_type": "code",
   "execution_count": 2,
   "metadata": {},
   "outputs": [],
   "source": [
    "datapath =r'C:\\Users\\User\\Desktop\\程式交易\\歷史資料\\大陸期貨連續月資料'\n",
    "files = listdir(datapath)"
   ]
  },
  {
   "cell_type": "code",
   "execution_count": 3,
   "metadata": {
    "scrolled": true
   },
   "outputs": [
    {
     "name": "stdout",
     "output_type": "stream",
     "text": [
      "['a-60-OpenInterest-Difference.txt', 'ag-60-OpenInterest-Difference.txt', 'al-60-OpenInterest-Difference.txt', 'AP-60-OpenInterest-Difference.txt', 'au-60-OpenInterest-Difference.txt']\n"
     ]
    }
   ],
   "source": [
    "namelist=[]\n",
    "for i in files:\n",
    "    if 'Difference.txt' in i:\n",
    "        namelist.append(i)\n",
    "print(namelist[0:5])"
   ]
  },
  {
   "cell_type": "markdown",
   "metadata": {},
   "source": [
    "# 問題\n",
    "1. 09:01的時間會不見  \n",
    "2. 最後兩排不知道是甚麼"
   ]
  },
  {
   "cell_type": "code",
   "execution_count": 4,
   "metadata": {
    "scrolled": true
   },
   "outputs": [],
   "source": [
    "size='D'\n",
    "for i in namelist:\n",
    "    data = pd.read_csv(datapath+ '\\\\' +i,sep = ',',engine='python',encoding = 'utf-8')\n",
    "    data.columns=(['date','Open','High','Low','Close','Volume','Outstanding'])\n",
    "    data['date']=pd.to_datetime(data['date'])\n",
    "    data.set_index('date' , inplace=True)\n",
    "    \n",
    "    data_open=data.loc[:,'Open'].resample(size).first().dropna()\n",
    "    data_high=data.loc[:,'High'].resample(size).max().dropna()\n",
    "    data_low=data.loc[:,'Low'].resample(size).min().dropna()\n",
    "    data_close=data.loc[:,'Close'].resample(size).last().dropna()\n",
    "    data_volumn=data.loc[:,'Volume'].resample(size).sum().dropna()\n",
    "    data_outstanding=data.loc[:,'Outstanding'].resample(size).last().dropna()\n",
    "    locals()[i[:i.index('-')]+'_data']=pd.concat([data_open,data_high,data_close,data_low,data_volumn,data_outstanding],axis=1).dropna()\n",
    "    locals()[i[:i.index('-')]+'_data']['Return(%)']=(locals()[i[:i.index('-')]+'_data']['Close']-locals()[i[:i.index('-')]+'_data']['Close'].shift(1))/locals()[i[:i.index('-')]+'_data']['Close'].shift(1)*100"
   ]
  },
  {
   "cell_type": "code",
   "execution_count": 5,
   "metadata": {},
   "outputs": [],
   "source": [
    "abbrevlist=[]             #abbreviation of namelist\n",
    "for i in namelist:\n",
    "    i=i[:i.index('-')]\n",
    "    abbrevlist.append(i)"
   ]
  },
  {
   "cell_type": "code",
   "execution_count": 6,
   "metadata": {
    "scrolled": true
   },
   "outputs": [],
   "source": [
    "Total_Return=[]\n",
    "Total_Return=pd.DataFrame(Total_Return)\n",
    "for j in abbrevlist:\n",
    "    Total_Return[j]=locals()[j+'_data']['Close']['2013/1/1':'2019/1/1']"
   ]
  },
  {
   "cell_type": "markdown",
   "metadata": {},
   "source": [
    "# 找出每個資料的時間\n",
    "把時分秒弄掉"
   ]
  },
  {
   "cell_type": "code",
   "execution_count": 7,
   "metadata": {
    "scrolled": true
   },
   "outputs": [
    {
     "name": "stdout",
     "output_type": "stream",
     "text": [
      "a = 2003-08-04 00:00:00 ~ 2019-03-22 00:00:00\n",
      "ag = 2012-05-11 00:00:00 ~ 2019-03-22 00:00:00\n",
      "al = 2003-08-04 00:00:00 ~ 2019-03-22 00:00:00\n",
      "AP = 2017-12-26 00:00:00 ~ 2019-03-22 00:00:00\n",
      "au = 2008-01-10 00:00:00 ~ 2019-03-22 00:00:00\n",
      "b = 2004-12-23 00:00:00 ~ 2019-03-22 00:00:00\n",
      "bu = 2013-10-10 00:00:00 ~ 2019-03-22 00:00:00\n",
      "c = 2004-09-23 00:00:00 ~ 2019-03-22 00:00:00\n",
      "CF = 2004-06-01 00:00:00 ~ 2019-03-22 00:00:00\n",
      "cs = 2014-12-22 00:00:00 ~ 2019-03-22 00:00:00\n",
      "cu = 2003-08-04 00:00:00 ~ 2019-03-22 00:00:00\n",
      "CY = 2017-08-23 00:00:00 ~ 2019-03-22 00:00:00\n",
      "eg = 2018-12-11 00:00:00 ~ 2019-03-22 00:00:00\n",
      "FG = 2012-12-04 00:00:00 ~ 2019-03-22 00:00:00\n",
      "fu = 2004-08-26 00:00:00 ~ 2019-03-22 00:00:00\n",
      "hc = 2014-03-24 00:00:00 ~ 2019-03-22 00:00:00\n",
      "i = 2013-10-21 00:00:00 ~ 2019-03-22 00:00:00\n",
      "IC = 2015-04-21 00:00:00 ~ 2019-03-22 00:00:00\n",
      "IF = 2012-05-25 00:00:00 ~ 2019-03-22 00:00:00\n",
      "IH = 2015-05-04 00:00:00 ~ 2019-03-22 00:00:00\n",
      "j = 2011-04-18 00:00:00 ~ 2019-03-22 00:00:00\n",
      "jd = 2013-11-11 00:00:00 ~ 2019-03-22 00:00:00\n",
      "jm = 2013-03-25 00:00:00 ~ 2019-03-22 00:00:00\n",
      "l = 2007-08-01 00:00:00 ~ 2019-03-22 00:00:00\n",
      "m = 2003-08-04 00:00:00 ~ 2019-03-22 00:00:00\n",
      "MA = 2014-07-18 00:00:00 ~ 2019-03-22 00:00:00\n",
      "ni = 2015-03-30 00:00:00 ~ 2019-03-22 00:00:00\n",
      "OI = 2011-07-04 00:00:00 ~ 2019-03-22 00:00:00\n",
      "p = 2007-10-30 00:00:00 ~ 2019-03-22 00:00:00\n",
      "pb = 2011-03-25 00:00:00 ~ 2019-03-22 00:00:00\n",
      "pp = 2014-03-03 00:00:00 ~ 2019-03-22 00:00:00\n",
      "rb = 2009-03-30 00:00:00 ~ 2019-03-22 00:00:00\n",
      "RM = 2012-12-31 00:00:00 ~ 2019-03-22 00:00:00\n",
      "ru = 2003-08-04 00:00:00 ~ 2019-03-22 00:00:00\n",
      "sc = 2018-03-28 00:00:00 ~ 2019-03-22 00:00:00\n",
      "SF = 2016-04-07 00:00:00 ~ 2019-03-22 00:00:00\n",
      "SM = 2016-04-05 00:00:00 ~ 2019-03-22 00:00:00\n",
      "sn = 2015-03-30 00:00:00 ~ 2019-03-22 00:00:00\n",
      "sp = 2018-11-28 00:00:00 ~ 2019-03-22 00:00:00\n",
      "SR = 2006-01-09 00:00:00 ~ 2019-03-22 00:00:00\n",
      "T = 2016-05-04 00:00:00 ~ 2019-03-22 00:00:00\n",
      "TA = 2006-12-19 00:00:00 ~ 2019-03-22 00:00:00\n",
      "TF = 2016-05-04 00:00:00 ~ 2019-03-22 00:00:00\n",
      "v = 2009-05-26 00:00:00 ~ 2019-03-22 00:00:00\n",
      "wr = 2009-03-30 00:00:00 ~ 2019-03-22 00:00:00\n",
      "y = 2006-01-18 00:00:00 ~ 2019-03-22 00:00:00\n",
      "ZC = 2015-12-21 00:00:00 ~ 2019-03-22 00:00:00\n",
      "zn = 2007-03-27 00:00:00 ~ 2019-03-22 00:00:00\n"
     ]
    }
   ],
   "source": [
    "import time\n",
    "for k in abbrevlist:\n",
    "    print (k,'=',locals()[k+'_data'].index[0],'~',locals()[k+'_data'].index[-1])"
   ]
  },
  {
   "cell_type": "markdown",
   "metadata": {},
   "source": [
    "# 大連與鄭州交易所所有有夜盤的商品\n",
    "testnamelist=['FG','MA','SR','TA','RM','OI','CF','CY','ZC','i','j','jm','a','b','m','p','y']\n",
    "1. 先去掉CY 因為資料從2017年開始\n"
   ]
  },
  {
   "cell_type": "code",
   "execution_count": 8,
   "metadata": {},
   "outputs": [
    {
     "name": "stdout",
     "output_type": "stream",
     "text": [
      "FG = 2012-12-04 00:00:00 ~ 2019-03-22 00:00:00\n",
      "MA = 2014-07-18 00:00:00 ~ 2019-03-22 00:00:00\n",
      "SR = 2006-01-09 00:00:00 ~ 2019-03-22 00:00:00\n",
      "TA = 2006-12-19 00:00:00 ~ 2019-03-22 00:00:00\n",
      "RM = 2012-12-31 00:00:00 ~ 2019-03-22 00:00:00\n",
      "OI = 2011-07-04 00:00:00 ~ 2019-03-22 00:00:00\n",
      "CF = 2004-06-01 00:00:00 ~ 2019-03-22 00:00:00\n",
      "CY = 2017-08-23 00:00:00 ~ 2019-03-22 00:00:00\n",
      "ZC = 2015-12-21 00:00:00 ~ 2019-03-22 00:00:00\n",
      "i = 2013-10-21 00:00:00 ~ 2019-03-22 00:00:00\n",
      "j = 2011-04-18 00:00:00 ~ 2019-03-22 00:00:00\n",
      "jm = 2013-03-25 00:00:00 ~ 2019-03-22 00:00:00\n",
      "a = 2003-08-04 00:00:00 ~ 2019-03-22 00:00:00\n",
      "b = 2004-12-23 00:00:00 ~ 2019-03-22 00:00:00\n",
      "m = 2003-08-04 00:00:00 ~ 2019-03-22 00:00:00\n",
      "p = 2007-10-30 00:00:00 ~ 2019-03-22 00:00:00\n",
      "y = 2006-01-18 00:00:00 ~ 2019-03-22 00:00:00\n"
     ]
    }
   ],
   "source": [
    "testnamelist=['FG','MA','SR','TA','RM','OI','CF','CY','ZC','i','j','jm','a','b','m','p','y']\n",
    "for k in testnamelist:\n",
    "    print (k,'=',locals()[k+'_data'].index[0],'~',locals()[k+'_data'].index[-1])"
   ]
  },
  {
   "cell_type": "code",
   "execution_count": 9,
   "metadata": {},
   "outputs": [],
   "source": [
    "Test_Return=[]\n",
    "Test_Return=pd.DataFrame(Test_Return)\n",
    "for j in testnamelist:\n",
    "    Test_Return[j]=locals()[j+'_data']['Close']['2018/5/1':'2019/3/22']"
   ]
  },
  {
   "cell_type": "code",
   "execution_count": 10,
   "metadata": {
    "scrolled": false
   },
   "outputs": [
    {
     "data": {
      "text/plain": [
       "FG    0.112057\n",
       "MA    0.753620\n",
       "SR    0.033509\n",
       "TA    0.153687\n",
       "RM    0.847058\n",
       "OI    0.132599\n",
       "CF    0.329802\n",
       "CY    0.125652\n",
       "ZC    0.210993\n",
       "i    -0.526790\n",
       "j    -0.034385\n",
       "jm   -0.540685\n",
       "a     0.732245\n",
       "b     0.855387\n",
       "m     1.000000\n",
       "p     0.455450\n",
       "y     0.457361\n",
       "Name: m, dtype: float64"
      ]
     },
     "execution_count": 10,
     "metadata": {},
     "output_type": "execute_result"
    }
   ],
   "source": [
    "ans=Test_Return.corr()\n",
    "ans['m']"
   ]
  },
  {
   "cell_type": "code",
   "execution_count": 11,
   "metadata": {
    "scrolled": true
   },
   "outputs": [
    {
     "data": {
      "text/plain": [
       "[<matplotlib.lines.Line2D at 0x23793f26ba8>]"
      ]
     },
     "execution_count": 11,
     "metadata": {},
     "output_type": "execute_result"
    }
   ],
   "source": [
    "import matplotlib.pyplot as plt\n",
    "plt.figure(figsize=(16,4))\n",
    "xxx=m_data['2010/1/1':]['Close']-RM_data['2010/1/1':]['Close']\n",
    "plt.plot(xxx,'r')\n"
   ]
  },
  {
   "cell_type": "code",
   "execution_count": 12,
   "metadata": {
    "scrolled": true
   },
   "outputs": [
    {
     "data": {
      "text/plain": [
       "<matplotlib.legend.Legend at 0x2378b801a90>"
      ]
     },
     "execution_count": 12,
     "metadata": {},
     "output_type": "execute_result"
    },
    {
     "data": {
      "image/png": "[encoded data removed]",
      "text/plain": [
       "<Figure size 1152x288 with 1 Axes>"
      ]
     },
     "metadata": {},
     "output_type": "display_data"
    }
   ],
   "source": [
    "plt.figure(figsize=(16,4))\n",
    "plt.title('DCE RM v.s. CZCE m  Price') \n",
    "plt.xlabel('Date') \n",
    "plt.ylabel('Price')\n",
    "plt.plot(m_data['2014/1/1':]['Close'],label='CZCE m')\n",
    "plt.plot(RM_data['2014/1/1':]['Close'],label='DCE RM')\n",
    "plt.legend(loc='upper right')"
   ]
  },
  {
   "cell_type": "code",
   "execution_count": 13,
   "metadata": {
    "scrolled": true
   },
   "outputs": [
    {
     "ename": "FileNotFoundError",
     "evalue": "[Errno 2] No such file or directory: 'C:\\\\Users\\\\User\\\\Desktop\\\\美豆.txt'",
     "output_type": "error",
     "traceback": [
      "\u001b[1;31m---------------------------------------------------------------------------\u001b[0m",
      "\u001b[1;31mFileNotFoundError\u001b[0m                         Traceback (most recent call last)",
      "\u001b[1;32m<ipython-input-13-9ad8ac2c9713>\u001b[0m in \u001b[0;36m<module>\u001b[1;34m()\u001b[0m\n\u001b[0;32m      1\u001b[0m \u001b[0msize\u001b[0m\u001b[1;33m=\u001b[0m\u001b[1;34m'D'\u001b[0m\u001b[1;33m\u001b[0m\u001b[0m\n\u001b[0;32m      2\u001b[0m \u001b[0mdatapath1\u001b[0m\u001b[1;33m=\u001b[0m\u001b[1;34mr'C:\\Users\\User\\Desktop\\美豆.txt'\u001b[0m\u001b[1;33m\u001b[0m\u001b[0m\n\u001b[1;32m----> 3\u001b[1;33m \u001b[0mCBOT_Soybean\u001b[0m \u001b[1;33m=\u001b[0m \u001b[0mpd\u001b[0m\u001b[1;33m.\u001b[0m\u001b[0mread_csv\u001b[0m\u001b[1;33m(\u001b[0m\u001b[0mdatapath1\u001b[0m\u001b[1;33m,\u001b[0m\u001b[0msep\u001b[0m \u001b[1;33m=\u001b[0m \u001b[1;34m','\u001b[0m\u001b[1;33m,\u001b[0m\u001b[0mengine\u001b[0m\u001b[1;33m=\u001b[0m\u001b[1;34m'python'\u001b[0m\u001b[1;33m,\u001b[0m\u001b[0mencoding\u001b[0m \u001b[1;33m=\u001b[0m \u001b[1;34m'utf-8'\u001b[0m\u001b[1;33m)\u001b[0m\u001b[1;33m\u001b[0m\u001b[0m\n\u001b[0m\u001b[0;32m      4\u001b[0m \u001b[0mCBOT_Soybean\u001b[0m\u001b[1;33m[\u001b[0m\u001b[1;34m'Date'\u001b[0m\u001b[1;33m]\u001b[0m\u001b[1;33m=\u001b[0m\u001b[0mCBOT_Soybean\u001b[0m\u001b[1;33m[\u001b[0m\u001b[1;34m'Date'\u001b[0m\u001b[1;33m]\u001b[0m\u001b[1;33m+\u001b[0m\u001b[1;34m' '\u001b[0m\u001b[1;33m+\u001b[0m\u001b[0mCBOT_Soybean\u001b[0m\u001b[1;33m[\u001b[0m\u001b[1;34m'Time'\u001b[0m\u001b[1;33m]\u001b[0m\u001b[1;33m\u001b[0m\u001b[0m\n\u001b[0;32m      5\u001b[0m \u001b[0mCBOT_Soybean\u001b[0m\u001b[1;33m=\u001b[0m\u001b[0mCBOT_Soybean\u001b[0m\u001b[1;33m.\u001b[0m\u001b[0mdrop\u001b[0m\u001b[1;33m(\u001b[0m\u001b[1;34m'Time'\u001b[0m\u001b[1;33m,\u001b[0m\u001b[0maxis\u001b[0m\u001b[1;33m=\u001b[0m\u001b[1;36m1\u001b[0m\u001b[1;33m)\u001b[0m\u001b[1;33m\u001b[0m\u001b[0m\n",
      "\u001b[1;32m~\\Anaconda3\\lib\\site-packages\\pandas\\io\\parsers.py\u001b[0m in \u001b[0;36mparser_f\u001b[1;34m(filepath_or_buffer, sep, delimiter, header, names, index_col, usecols, squeeze, prefix, mangle_dupe_cols, dtype, engine, converters, true_values, false_values, skipinitialspace, skiprows, nrows, na_values, keep_default_na, na_filter, verbose, skip_blank_lines, parse_dates, infer_datetime_format, keep_date_col, date_parser, dayfirst, iterator, chunksize, compression, thousands, decimal, lineterminator, quotechar, quoting, escapechar, comment, encoding, dialect, tupleize_cols, error_bad_lines, warn_bad_lines, skipfooter, doublequote, delim_whitespace, low_memory, memory_map, float_precision)\u001b[0m\n\u001b[0;32m    676\u001b[0m                     skip_blank_lines=skip_blank_lines)\n\u001b[0;32m    677\u001b[0m \u001b[1;33m\u001b[0m\u001b[0m\n\u001b[1;32m--> 678\u001b[1;33m         \u001b[1;32mreturn\u001b[0m \u001b[0m_read\u001b[0m\u001b[1;33m(\u001b[0m\u001b[0mfilepath_or_buffer\u001b[0m\u001b[1;33m,\u001b[0m \u001b[0mkwds\u001b[0m\u001b[1;33m)\u001b[0m\u001b[1;33m\u001b[0m\u001b[0m\n\u001b[0m\u001b[0;32m    679\u001b[0m \u001b[1;33m\u001b[0m\u001b[0m\n\u001b[0;32m    680\u001b[0m     \u001b[0mparser_f\u001b[0m\u001b[1;33m.\u001b[0m\u001b[0m__name__\u001b[0m \u001b[1;33m=\u001b[0m \u001b[0mname\u001b[0m\u001b[1;33m\u001b[0m\u001b[0m\n",
      "\u001b[1;32m~\\Anaconda3\\lib\\site-packages\\pandas\\io\\parsers.py\u001b[0m in \u001b[0;36m_read\u001b[1;34m(filepath_or_buffer, kwds)\u001b[0m\n\u001b[0;32m    438\u001b[0m \u001b[1;33m\u001b[0m\u001b[0m\n\u001b[0;32m    439\u001b[0m     \u001b[1;31m# Create the parser.\u001b[0m\u001b[1;33m\u001b[0m\u001b[1;33m\u001b[0m\u001b[0m\n\u001b[1;32m--> 440\u001b[1;33m     \u001b[0mparser\u001b[0m \u001b[1;33m=\u001b[0m \u001b[0mTextFileReader\u001b[0m\u001b[1;33m(\u001b[0m\u001b[0mfilepath_or_buffer\u001b[0m\u001b[1;33m,\u001b[0m \u001b[1;33m**\u001b[0m\u001b[0mkwds\u001b[0m\u001b[1;33m)\u001b[0m\u001b[1;33m\u001b[0m\u001b[0m\n\u001b[0m\u001b[0;32m    441\u001b[0m \u001b[1;33m\u001b[0m\u001b[0m\n\u001b[0;32m    442\u001b[0m     \u001b[1;32mif\u001b[0m \u001b[0mchunksize\u001b[0m \u001b[1;32mor\u001b[0m \u001b[0miterator\u001b[0m\u001b[1;33m:\u001b[0m\u001b[1;33m\u001b[0m\u001b[0m\n",
      "\u001b[1;32m~\\Anaconda3\\lib\\site-packages\\pandas\\io\\parsers.py\u001b[0m in \u001b[0;36m__init__\u001b[1;34m(self, f, engine, **kwds)\u001b[0m\n\u001b[0;32m    785\u001b[0m             \u001b[0mself\u001b[0m\u001b[1;33m.\u001b[0m\u001b[0moptions\u001b[0m\u001b[1;33m[\u001b[0m\u001b[1;34m'has_index_names'\u001b[0m\u001b[1;33m]\u001b[0m \u001b[1;33m=\u001b[0m \u001b[0mkwds\u001b[0m\u001b[1;33m[\u001b[0m\u001b[1;34m'has_index_names'\u001b[0m\u001b[1;33m]\u001b[0m\u001b[1;33m\u001b[0m\u001b[0m\n\u001b[0;32m    786\u001b[0m \u001b[1;33m\u001b[0m\u001b[0m\n\u001b[1;32m--> 787\u001b[1;33m         \u001b[0mself\u001b[0m\u001b[1;33m.\u001b[0m\u001b[0m_make_engine\u001b[0m\u001b[1;33m(\u001b[0m\u001b[0mself\u001b[0m\u001b[1;33m.\u001b[0m\u001b[0mengine\u001b[0m\u001b[1;33m)\u001b[0m\u001b[1;33m\u001b[0m\u001b[0m\n\u001b[0m\u001b[0;32m    788\u001b[0m \u001b[1;33m\u001b[0m\u001b[0m\n\u001b[0;32m    789\u001b[0m     \u001b[1;32mdef\u001b[0m \u001b[0mclose\u001b[0m\u001b[1;33m(\u001b[0m\u001b[0mself\u001b[0m\u001b[1;33m)\u001b[0m\u001b[1;33m:\u001b[0m\u001b[1;33m\u001b[0m\u001b[0m\n",
      "\u001b[1;32m~\\Anaconda3\\lib\\site-packages\\pandas\\io\\parsers.py\u001b[0m in \u001b[0;36m_make_engine\u001b[1;34m(self, engine)\u001b[0m\n\u001b[0;32m   1022\u001b[0m                                  ' \"c\", \"python\", or' ' \"python-fwf\")'.format(\n\u001b[0;32m   1023\u001b[0m                                      engine=engine))\n\u001b[1;32m-> 1024\u001b[1;33m             \u001b[0mself\u001b[0m\u001b[1;33m.\u001b[0m\u001b[0m_engine\u001b[0m \u001b[1;33m=\u001b[0m \u001b[0mklass\u001b[0m\u001b[1;33m(\u001b[0m\u001b[0mself\u001b[0m\u001b[1;33m.\u001b[0m\u001b[0mf\u001b[0m\u001b[1;33m,\u001b[0m \u001b[1;33m**\u001b[0m\u001b[0mself\u001b[0m\u001b[1;33m.\u001b[0m\u001b[0moptions\u001b[0m\u001b[1;33m)\u001b[0m\u001b[1;33m\u001b[0m\u001b[0m\n\u001b[0m\u001b[0;32m   1025\u001b[0m \u001b[1;33m\u001b[0m\u001b[0m\n\u001b[0;32m   1026\u001b[0m     \u001b[1;32mdef\u001b[0m \u001b[0m_failover_to_python\u001b[0m\u001b[1;33m(\u001b[0m\u001b[0mself\u001b[0m\u001b[1;33m)\u001b[0m\u001b[1;33m:\u001b[0m\u001b[1;33m\u001b[0m\u001b[0m\n",
      "\u001b[1;32m~\\Anaconda3\\lib\\site-packages\\pandas\\io\\parsers.py\u001b[0m in \u001b[0;36m__init__\u001b[1;34m(self, f, **kwds)\u001b[0m\n\u001b[0;32m   2075\u001b[0m         f, handles = _get_handle(f, mode, encoding=self.encoding,\n\u001b[0;32m   2076\u001b[0m                                  \u001b[0mcompression\u001b[0m\u001b[1;33m=\u001b[0m\u001b[0mself\u001b[0m\u001b[1;33m.\u001b[0m\u001b[0mcompression\u001b[0m\u001b[1;33m,\u001b[0m\u001b[1;33m\u001b[0m\u001b[0m\n\u001b[1;32m-> 2077\u001b[1;33m                                  memory_map=self.memory_map)\n\u001b[0m\u001b[0;32m   2078\u001b[0m         \u001b[0mself\u001b[0m\u001b[1;33m.\u001b[0m\u001b[0mhandles\u001b[0m\u001b[1;33m.\u001b[0m\u001b[0mextend\u001b[0m\u001b[1;33m(\u001b[0m\u001b[0mhandles\u001b[0m\u001b[1;33m)\u001b[0m\u001b[1;33m\u001b[0m\u001b[0m\n\u001b[0;32m   2079\u001b[0m \u001b[1;33m\u001b[0m\u001b[0m\n",
      "\u001b[1;32m~\\Anaconda3\\lib\\site-packages\\pandas\\io\\common.py\u001b[0m in \u001b[0;36m_get_handle\u001b[1;34m(path_or_buf, mode, encoding, compression, memory_map, is_text)\u001b[0m\n\u001b[0;32m    398\u001b[0m         \u001b[1;32melif\u001b[0m \u001b[0mencoding\u001b[0m\u001b[1;33m:\u001b[0m\u001b[1;33m\u001b[0m\u001b[0m\n\u001b[0;32m    399\u001b[0m             \u001b[1;31m# Python 3 and encoding\u001b[0m\u001b[1;33m\u001b[0m\u001b[1;33m\u001b[0m\u001b[0m\n\u001b[1;32m--> 400\u001b[1;33m             \u001b[0mf\u001b[0m \u001b[1;33m=\u001b[0m \u001b[0mopen\u001b[0m\u001b[1;33m(\u001b[0m\u001b[0mpath_or_buf\u001b[0m\u001b[1;33m,\u001b[0m \u001b[0mmode\u001b[0m\u001b[1;33m,\u001b[0m \u001b[0mencoding\u001b[0m\u001b[1;33m=\u001b[0m\u001b[0mencoding\u001b[0m\u001b[1;33m)\u001b[0m\u001b[1;33m\u001b[0m\u001b[0m\n\u001b[0m\u001b[0;32m    401\u001b[0m         \u001b[1;32melif\u001b[0m \u001b[0mis_text\u001b[0m\u001b[1;33m:\u001b[0m\u001b[1;33m\u001b[0m\u001b[0m\n\u001b[0;32m    402\u001b[0m             \u001b[1;31m# Python 3 and no explicit encoding\u001b[0m\u001b[1;33m\u001b[0m\u001b[1;33m\u001b[0m\u001b[0m\n",
      "\u001b[1;31mFileNotFoundError\u001b[0m: [Errno 2] No such file or directory: 'C:\\\\Users\\\\User\\\\Desktop\\\\美豆.txt'"
     ]
    }
   ],
   "source": [
    "size='D'\n",
    "datapath1=r'C:\\Users\\User\\Desktop\\美豆.txt'\n",
    "CBOT_Soybean = pd.read_csv(datapath1,sep = ',',engine='python',encoding = 'utf-8')\n",
    "CBOT_Soybean['Date']=CBOT_Soybean['Date']+' '+CBOT_Soybean['Time']\n",
    "CBOT_Soybean=CBOT_Soybean.drop('Time',axis=1)\n",
    "CBOT_Soybean.columns"
   ]
  },
  {
   "cell_type": "code",
   "execution_count": null,
   "metadata": {},
   "outputs": [],
   "source": [
    "CBOT_Soybean['Date']=pd.to_datetime(CBOT_Soybean['Date'])\n",
    "CBOT_Soybean.set_index('Date' , inplace=True)\n",
    "\n",
    "data_open=CBOT_Soybean.loc[:,'Open'].resample(size).first().dropna()\n",
    "data_high=CBOT_Soybean.loc[:,'High'].resample(size).max().dropna()\n",
    "data_low=CBOT_Soybean.loc[:,'Low'].resample(size).min().dropna()\n",
    "data_close=CBOT_Soybean.loc[:,'Close'].resample(size).last().dropna()\n",
    "data_Total_Volumn=CBOT_Soybean.loc[:,'TotalVolume'].resample(size).sum().dropna()\n",
    "CBOT_Soybean=pd.concat([data_open,data_high,data_close,data_low,data_volumn,data_Total_Volumn],axis=1).dropna()\n",
    "CBOT_Soybean['Return(%)']=(CBOT_Soybean['Close']-CBOT_Soybean['Close'].shift(1))/CBOT_Soybean['Close'].shift(1)*100"
   ]
  },
  {
   "cell_type": "code",
   "execution_count": null,
   "metadata": {},
   "outputs": [],
   "source": [
    "CBOT_Soybean.index"
   ]
  },
  {
   "cell_type": "code",
   "execution_count": null,
   "metadata": {},
   "outputs": [],
   "source": [
    "Test_Return['CBOT_Soybean']=CBOT_Soybean['Close']\n",
    "ans2=Test_Return.corr()\n",
    "ans2['CBOT_Soybean']"
   ]
  },
  {
   "cell_type": "markdown",
   "metadata": {},
   "source": [
    "# 檢測大豆、豆粕、豆油三者交易量"
   ]
  },
  {
   "cell_type": "code",
   "execution_count": null,
   "metadata": {
    "scrolled": true
   },
   "outputs": [],
   "source": [
    "plt.figure(figsize=(16,4))\n",
    "plt.title('B/m/y Volume test') \n",
    "plt.xlabel('Date') \n",
    "plt.ylabel('Price')\n",
    "#plt.plot(m_data[:]['Volume'],label='m')\n",
    "plt.plot(b_data['2018/4/1':]['Volume'],label='b')\n",
    "#plt.plot(y_data[:]['Volume'],label='y')\n",
    "#plt.plot(a_data['2014/1/1':'2018/8/1']['Close'],label='DCE a')\n",
    "#plt.plot(CBOT_Soybean['2014/1/1':'2018/8/1']['Close'],label='CBOT_Soybean')\n",
    "plt.legend(loc='upper right')"
   ]
  },
  {
   "cell_type": "markdown",
   "metadata": {},
   "source": [
    "# 計算利潤"
   ]
  },
  {
   "cell_type": "code",
   "execution_count": null,
   "metadata": {},
   "outputs": [],
   "source": [
    "profit=[]\n",
    "profit=pd.DataFrame(profit)\n",
    "m_factor=0.73\n",
    "y_factor=0.18\n",
    "profit = m_factor * m_data['Close'] + y_factor * y_data['Close']-b_data['Close']"
   ]
  },
  {
   "cell_type": "code",
   "execution_count": null,
   "metadata": {},
   "outputs": [],
   "source": [
    "plt.figure(figsize=(16,4))\n",
    "startDay='2018/5/1'\n",
    "plt.plot(profit[startDay:],label='Profit')\n",
    "plt.legend(loc='upper right')"
   ]
  },
  {
   "cell_type": "code",
   "execution_count": null,
   "metadata": {},
   "outputs": [],
   "source": [
    "plt.figure(figsize=(16,4))\n",
    "startDay='2018/5/1'\n",
    "plt.plot(b_data[startDay:]['Volume'],label='b')\n",
    "plt.plot(m_data[startDay:]['Volume'],label='m')\n",
    "plt.plot(y_data[startDay:]['Volume'],label='y')\n",
    "plt.legend(loc='upper right')"
   ]
  },
  {
   "cell_type": "code",
   "execution_count": null,
   "metadata": {},
   "outputs": [],
   "source": [
    "Test_Return['Profit']=profit"
   ]
  },
  {
   "cell_type": "code",
   "execution_count": null,
   "metadata": {},
   "outputs": [],
   "source": [
    "ans3=Test_Return.corr()"
   ]
  },
  {
   "cell_type": "code",
   "execution_count": null,
   "metadata": {
    "scrolled": true
   },
   "outputs": [],
   "source": [
    "ans3['Profit']"
   ]
  },
  {
   "cell_type": "code",
   "execution_count": null,
   "metadata": {},
   "outputs": [],
   "source": []
  }
 ],
 "metadata": {
  "kernelspec": {
   "display_name": "Python 3",
   "language": "python",
   "name": "python3"
  },
  "language_info": {
   "codemirror_mode": {
    "name": "ipython",
    "version": 3
   },
   "file_extension": ".py",
   "mimetype": "text/x-python",
   "name": "python",
   "nbconvert_exporter": "python",
   "pygments_lexer": "ipython3",
   "version": "3.6.5"
  }
 },
 "nbformat": 4,
 "nbformat_minor": 2
}
