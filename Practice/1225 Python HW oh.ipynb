{
 "cells": [
  {
   "cell_type": "code",
   "execution_count": 1,
   "metadata": {
    "scrolled": true
   },
   "outputs": [],
   "source": [
    "#取得歷史資料,將資料做簡單處理\n",
    "Match_data1 = [ line.strip('\\n').split(\",\") for line in open('TXFB7.I020') ]\n",
    "Match_data2 = [ line.strip('\\n').split(\",\") for line in open('TXFB7.I080') ][1:]\n",
    "#取得歷史日期\n",
    "Date_list1 = set([ i[0] for i in Match_data1 ])\n",
    "#Date_list.remove(' ')\n",
    "Date_list1=sorted(list(Date_list1))\n",
    "Date_list2 = set([ i[0] for i in Match_data2 ])\n",
    "#Date_list.remove(' ')\n",
    "Date_list2=sorted(list(Date_list2))"
   ]
  },
  {
   "cell_type": "code",
   "execution_count": 2,
   "metadata": {},
   "outputs": [],
   "source": [
    "#開高低收量function(輸入-->'日期',起始時間,結束時間  輸出-->開高低收量)\n",
    "def OHLC(DD,TT1,TT2):\n",
    "#取得回測每日資料\n",
    "    C_I020 = [ i for i in Match_data1 if i[0]== DD ]\n",
    "#截取時間段資料並存入陣列\n",
    "    I020a= [ line for line in C_I020 if int(line[1])> TT1 and int(line[1])< TT2 ]\n",
    "#第一筆的資料價格\n",
    "    O= I020a[0][3]\n",
    "#最後一筆資料的價格\n",
    "    C= I020a[-1][3]\n",
    "    x1=[]\n",
    "    x2=[]\n",
    "    for i in range(len(I020a)):\n",
    "#將所有價格存為價格陣列\n",
    "        x1.append(int(I020a[i][3]))\n",
    "#將所有量存為量陣列\n",
    "        x2.append(int(I020a[i][4]))\n",
    "#取出最高價\n",
    "    H=max(x1)\n",
    "#取出最低價\n",
    "    L=min(x1)\n",
    "#算出總量\n",
    "    Amount=sum(x2)\n",
    "    return [O,H,L,C,Amount]\n",
    "\n",
    "#價格function(輸入-->日期時間  輸出-->價格)\n",
    "def GP(date,time):\n",
    "#取得回測每日資料\n",
    " C_I020 = [ i for i in Match_data1 if i[0]== date ]    \n",
    "#截取時間段資料並存入陣列\n",
    " I020a= [ line for line in C_I020 if int(line[1])<=time ]\n",
    "#取出最後一筆(最接近時間點)的價格與時間 \n",
    " OrderTime=I020a[-1][1]  #下單時間紀錄\n",
    " OrderPrice=int(I020a[-1][3]) #下單價格紀錄\n",
    " return [OrderTime,OrderPrice]"
   ]
  },
  {
   "cell_type": "code",
   "execution_count": 43,
   "metadata": {},
   "outputs": [
    {
     "data": {
      "text/plain": [
       "48.66863566636903"
      ]
     },
     "execution_count": 43,
     "metadata": {},
     "output_type": "execute_result"
    }
   ],
   "source": [
    "#計算每日盤中外盤比\n",
    "def GetOutDeskRatio(DD):\n",
    "    InDesk=0\n",
    "    OutDesk=0\n",
    "    OutDeskRatio=0\n",
    "#取得回測每日資料\n",
    "    C_I020 = [ i for i in Match_data1 if i[0]== DD ]\n",
    "#截取時間段資料並存入陣列\n",
    "    I020a= [ line for line in C_I020 if int(line[1])> 8450000 and int(line[1])< 10300000 ]\n",
    "    \n",
    "#取得回測每日資料\n",
    "    C_I080 = [ i for i in Match_data2 if i[0]== DD ]\n",
    "#截取時間段資料並存入陣列\n",
    "    I080a= [ line for line in C_I080 if int(line[1])> 8450000 and int(line[1])< 10300000 ]\n",
    "    num1=0\n",
    "    num2=0\n",
    "    while num1 != len(I020a):\n",
    "        if int(I020a[num1][1]) == int(I080a[num2][1]):\n",
    "            if int(I020a[num1][3])>((int(I080a[num2][3])+int(I080a[num2][13]))*0.5):\n",
    "                OutDesk+=int(I020a[num1][4])\n",
    "                num1+=1\n",
    "            elif int(I020a[num1][3])<((int(I080a[num2][3])+int(I080a[num2][13]))*0.5):\n",
    "                InDesk+=int(I020a[num1][4])\n",
    "                num1+=1\n",
    "            else:\n",
    "                num1+=1\n",
    "        else:\n",
    "            num2+=1\n",
    "\n",
    "    OutDeskRatio=OutDesk/(OutDesk+InDesk)*100\n",
    "    return OutDeskRatio\n",
    "GetOutDeskRatio('20170119')\n",
    "    "
   ]
  },
  {
   "cell_type": "code",
   "execution_count": 38,
   "metadata": {},
   "outputs": [],
   "source": [
    "#計算對應到的理論漲跌幅\n",
    "def OutDeskValue(DD):\n",
    "    value={35:-2.69,36:-2.51,37:-2.33,38:-2.15,39:-1.97,40:-1.79,41:-1.61,42:-1.43,43:-1.25,44:-1.07,45:-0.89,46:-0.71,47:-0.54,48:-0.36,49:-0.18,50:0.00,51:0.18,52:0.36,53:0.54,54:0.72,55:0.90,56:1.08,57:1.26,58:1.44,59:1.61,60:1.79,61:1.97,62:2.15,63:2.33,64:2.51,65:2.69}\n",
    "    if GetOutDeskRatio(DD)<=35:\n",
    "        return value[35]\n",
    "    elif GetOutDeskRatio(DD)>65:\n",
    "        return value[65]\n",
    "    else:\n",
    "        return value[int(GetOutDeskRatio(DD))]"
   ]
  },
  {
   "cell_type": "code",
   "execution_count": 41,
   "metadata": {},
   "outputs": [
    {
     "data": {
      "text/plain": [
       "-0.36"
      ]
     },
     "execution_count": 41,
     "metadata": {},
     "output_type": "execute_result"
    }
   ],
   "source": [
    "OutDeskValue('20170119')"
   ]
  },
  {
   "cell_type": "code",
   "execution_count": 4,
   "metadata": {},
   "outputs": [
    {
     "ename": "TypeError",
     "evalue": "list indices must be integers or slices, not list",
     "output_type": "error",
     "traceback": [
      "\u001b[1;31m---------------------------------------------------------------------------\u001b[0m",
      "\u001b[1;31mTypeError\u001b[0m                                 Traceback (most recent call last)",
      "\u001b[1;32m<ipython-input-4-02dfe6209a72>\u001b[0m in \u001b[0;36m<module>\u001b[1;34m()\u001b[0m\n\u001b[0;32m      7\u001b[0m \u001b[1;33m\u001b[0m\u001b[0m\n\u001b[0;32m      8\u001b[0m     \u001b[1;31m#取得回測每日資料\u001b[0m\u001b[1;33m\u001b[0m\u001b[1;33m\u001b[0m\u001b[0m\n\u001b[1;32m----> 9\u001b[1;33m     \u001b[0mC_I020\u001b[0m \u001b[1;33m=\u001b[0m \u001b[1;33m[\u001b[0m \u001b[0mi\u001b[0m \u001b[1;32mfor\u001b[0m \u001b[0mi\u001b[0m \u001b[1;32min\u001b[0m \u001b[0mMatch_data1\u001b[0m \u001b[1;32mif\u001b[0m \u001b[0mi\u001b[0m\u001b[1;33m[\u001b[0m\u001b[1;36m0\u001b[0m\u001b[1;33m]\u001b[0m\u001b[1;33m==\u001b[0m \u001b[0mDate_list1\u001b[0m\u001b[1;33m[\u001b[0m\u001b[0mi\u001b[0m\u001b[1;33m]\u001b[0m \u001b[1;33m]\u001b[0m\u001b[1;33m\u001b[0m\u001b[0m\n\u001b[0m\u001b[0;32m     10\u001b[0m \u001b[1;33m\u001b[0m\u001b[0m\n\u001b[0;32m     11\u001b[0m     \u001b[1;31m#設立買賣時間\u001b[0m\u001b[1;33m\u001b[0m\u001b[1;33m\u001b[0m\u001b[0m\n",
      "\u001b[1;32m<ipython-input-4-02dfe6209a72>\u001b[0m in \u001b[0;36m<listcomp>\u001b[1;34m(.0)\u001b[0m\n\u001b[0;32m      7\u001b[0m \u001b[1;33m\u001b[0m\u001b[0m\n\u001b[0;32m      8\u001b[0m     \u001b[1;31m#取得回測每日資料\u001b[0m\u001b[1;33m\u001b[0m\u001b[1;33m\u001b[0m\u001b[0m\n\u001b[1;32m----> 9\u001b[1;33m     \u001b[0mC_I020\u001b[0m \u001b[1;33m=\u001b[0m \u001b[1;33m[\u001b[0m \u001b[0mi\u001b[0m \u001b[1;32mfor\u001b[0m \u001b[0mi\u001b[0m \u001b[1;32min\u001b[0m \u001b[0mMatch_data1\u001b[0m \u001b[1;32mif\u001b[0m \u001b[0mi\u001b[0m\u001b[1;33m[\u001b[0m\u001b[1;36m0\u001b[0m\u001b[1;33m]\u001b[0m\u001b[1;33m==\u001b[0m \u001b[0mDate_list1\u001b[0m\u001b[1;33m[\u001b[0m\u001b[0mi\u001b[0m\u001b[1;33m]\u001b[0m \u001b[1;33m]\u001b[0m\u001b[1;33m\u001b[0m\u001b[0m\n\u001b[0m\u001b[0;32m     10\u001b[0m \u001b[1;33m\u001b[0m\u001b[0m\n\u001b[0;32m     11\u001b[0m     \u001b[1;31m#設立買賣時間\u001b[0m\u001b[1;33m\u001b[0m\u001b[1;33m\u001b[0m\u001b[0m\n",
      "\u001b[1;31mTypeError\u001b[0m: list indices must be integers or slices, not list"
     ]
    }
   ],
   "source": [
    "#每日回測\n",
    "profit=[]\n",
    "for i in range(len(Date_list1)):\n",
    "    DD='Date_list1[i]'\n",
    "    #計算當前漲跌幅=(1030收盤減開盤)/(開盤)\n",
    "    CurrentSpread=((OHLC(DD,8450000,10300000)[0])-(OHLC(DD,8450000,10300000)[3]))/(OHLC(DD,8450000,10300000)[0])*100\n",
    "\n",
    "    #確認買進訊號\n",
    "    BuySignal=0\n",
    "    SellShortSignal=0\n",
    "    if int(OutDeskValue(DD))>CurrentSpread+1: #當理論值大於實際值+1即買進\n",
    "        BuySignal=1\n",
    "        \n",
    "    elif int(OutDeskValue(DD))<CurrentSpread-1: #當理論值小於實際值-1即賣出\n",
    "        SellShortSignal=1\n",
    "    else:\n",
    "        BuySignal=0\n",
    "        SellShortSignal=0 \n",
    "\n",
    "   \n",
    "    #取得回測每日資料\n",
    "    C_I020 = [ i for i in Match_data1 if i[0]== Date_list1[i] ]\n",
    "    \n",
    "    #設立買賣時間\n",
    "    I020a= [ line for line in C_I020 if int(line[1])>=10300000 and int(line[1])<=12300000 ]\n",
    "    I020b= [ line for line in C_I020 if int(line[1])>=8450000 and int(line[1])<=13300000 ]\n",
    "    #當時間=1030時 確認是否有進場訊號\n",
    "    for i in range(1,len(I020a)):\n",
    "        if I020a[1+i][1]==10300000  and BuySignal==1:\n",
    "            OrderDay=I020a[i][0]  \n",
    "            OrderTime=I020a[i][1] \n",
    "            OrderPrice=int(I020a[i][3])              \n",
    "        elif I020a[1+i][1]==10300000  and SellShortSignal==1:\n",
    "            OrdershortDay=I020a[i][0]  \n",
    "            OrderTime=I020a[i][1]  \n",
    "            OrderPrice=int(I020a[i][3])     \n",
    "        print(BuyDay)\n",
    "            \n",
    "    for i in range(1,len(I020b)):\n",
    "        price=int(I020a[i][3])\n",
    "        if price <= int(OrderPrice)-30 or price >= int(OrderPrice)+30:\n",
    "            CoverDay=I020b[i][0]  #平倉日\n",
    "            CoverTime=I020b[i][1]  #平倉時間紀錄\n",
    "            CoverPrice=int(I020b[i][3])  #平倉時間紀錄\n",
    "            value=CoverPrice-OrderPrice\n",
    "            break;\n",
    "        elif i == len(I020a)-1:\n",
    "            CoverDay=I020b[i][0]  #平倉日\n",
    "            CoverTime=I020b[i][1]  #平倉時間紀錄\n",
    "            CoverPrice=int(I020b[i][3]) #平倉時間紀錄\n",
    "            value=CoverPrice-OrderPrice\n",
    "    profit.append(value)\n",
    "    #print(\"Date:\",CoverDay,\" OrderTime:\",,\" OrderPrice:\",op[1],\" CoverTime:\",CoverTime,\" CoverPrice:\",CoverPrice,\" Profit:\",CoverPrice-op[1])\n"
   ]
  },
  {
   "cell_type": "code",
   "execution_count": 66,
   "metadata": {},
   "outputs": [
    {
     "ename": "IndexError",
     "evalue": "list index out of range",
     "output_type": "error",
     "traceback": [
      "\u001b[1;31m---------------------------------------------------------------------------\u001b[0m",
      "\u001b[1;31mIndexError\u001b[0m                                Traceback (most recent call last)",
      "\u001b[1;32m<ipython-input-66-1eca11feb56b>\u001b[0m in \u001b[0;36m<module>\u001b[1;34m()\u001b[0m\n\u001b[0;32m      1\u001b[0m \u001b[0mDD\u001b[0m\u001b[1;33m=\u001b[0m\u001b[1;34m'Date_list1[0]'\u001b[0m\u001b[1;33m\u001b[0m\u001b[0m\n\u001b[0;32m      2\u001b[0m \u001b[1;31m#計算當前漲跌幅=(1030收盤減開盤)/(開盤)\u001b[0m\u001b[1;33m\u001b[0m\u001b[1;33m\u001b[0m\u001b[0m\n\u001b[1;32m----> 3\u001b[1;33m \u001b[0mCurrentSpread\u001b[0m\u001b[1;33m=\u001b[0m\u001b[1;33m(\u001b[0m\u001b[1;33m(\u001b[0m\u001b[0mOHLC\u001b[0m\u001b[1;33m(\u001b[0m\u001b[0mint\u001b[0m\u001b[1;33m(\u001b[0m\u001b[0mMatch_data1\u001b[0m\u001b[1;33m[\u001b[0m\u001b[1;36m0\u001b[0m\u001b[1;33m]\u001b[0m\u001b[1;33m[\u001b[0m\u001b[1;36m0\u001b[0m\u001b[1;33m]\u001b[0m\u001b[1;33m)\u001b[0m\u001b[1;33m,\u001b[0m\u001b[1;36m8450000\u001b[0m\u001b[1;33m,\u001b[0m\u001b[1;36m10300000\u001b[0m\u001b[1;33m)\u001b[0m\u001b[1;33m[\u001b[0m\u001b[1;36m0\u001b[0m\u001b[1;33m]\u001b[0m\u001b[1;33m)\u001b[0m\u001b[1;33m-\u001b[0m\u001b[1;33m(\u001b[0m\u001b[0mint\u001b[0m\u001b[1;33m(\u001b[0m\u001b[0mOHLC\u001b[0m\u001b[1;33m(\u001b[0m\u001b[0mMatch_data1\u001b[0m\u001b[1;33m[\u001b[0m\u001b[1;36m0\u001b[0m\u001b[1;33m]\u001b[0m\u001b[1;33m[\u001b[0m\u001b[1;36m0\u001b[0m\u001b[1;33m]\u001b[0m\u001b[1;33m)\u001b[0m\u001b[1;33m,\u001b[0m\u001b[1;36m8450000\u001b[0m\u001b[1;33m,\u001b[0m\u001b[1;36m10300000\u001b[0m\u001b[1;33m)\u001b[0m\u001b[1;33m[\u001b[0m\u001b[1;36m3\u001b[0m\u001b[1;33m]\u001b[0m\u001b[1;33m)\u001b[0m\u001b[1;33m)\u001b[0m\u001b[1;33m/\u001b[0m\u001b[1;33m(\u001b[0m\u001b[0mint\u001b[0m\u001b[1;33m(\u001b[0m\u001b[0mOHLC\u001b[0m\u001b[1;33m(\u001b[0m\u001b[0mMatch_data1\u001b[0m\u001b[1;33m[\u001b[0m\u001b[1;36m0\u001b[0m\u001b[1;33m]\u001b[0m\u001b[1;33m[\u001b[0m\u001b[1;36m0\u001b[0m\u001b[1;33m]\u001b[0m\u001b[1;33m)\u001b[0m\u001b[1;33m,\u001b[0m\u001b[1;36m8450000\u001b[0m\u001b[1;33m,\u001b[0m\u001b[1;36m10300000\u001b[0m\u001b[1;33m)\u001b[0m\u001b[1;33m[\u001b[0m\u001b[1;36m0\u001b[0m\u001b[1;33m]\u001b[0m\u001b[1;33m)\u001b[0m\u001b[1;33m*\u001b[0m\u001b[1;36m100\u001b[0m\u001b[1;33m\u001b[0m\u001b[0m\n\u001b[0m",
      "\u001b[1;32m<ipython-input-2-f3059f1c6afc>\u001b[0m in \u001b[0;36mOHLC\u001b[1;34m(DD, TT1, TT2)\u001b[0m\n\u001b[0;32m      6\u001b[0m     \u001b[0mI020a\u001b[0m\u001b[1;33m=\u001b[0m \u001b[1;33m[\u001b[0m \u001b[0mline\u001b[0m \u001b[1;32mfor\u001b[0m \u001b[0mline\u001b[0m \u001b[1;32min\u001b[0m \u001b[0mC_I020\u001b[0m \u001b[1;32mif\u001b[0m \u001b[0mint\u001b[0m\u001b[1;33m(\u001b[0m\u001b[0mline\u001b[0m\u001b[1;33m[\u001b[0m\u001b[1;36m1\u001b[0m\u001b[1;33m]\u001b[0m\u001b[1;33m)\u001b[0m\u001b[1;33m>\u001b[0m \u001b[0mTT1\u001b[0m \u001b[1;32mand\u001b[0m \u001b[0mint\u001b[0m\u001b[1;33m(\u001b[0m\u001b[0mline\u001b[0m\u001b[1;33m[\u001b[0m\u001b[1;36m1\u001b[0m\u001b[1;33m]\u001b[0m\u001b[1;33m)\u001b[0m\u001b[1;33m<\u001b[0m \u001b[0mTT2\u001b[0m \u001b[1;33m]\u001b[0m\u001b[1;33m\u001b[0m\u001b[0m\n\u001b[0;32m      7\u001b[0m \u001b[1;31m#第一筆的資料價格\u001b[0m\u001b[1;33m\u001b[0m\u001b[1;33m\u001b[0m\u001b[0m\n\u001b[1;32m----> 8\u001b[1;33m     \u001b[0mO\u001b[0m\u001b[1;33m=\u001b[0m \u001b[0mI020a\u001b[0m\u001b[1;33m[\u001b[0m\u001b[1;36m0\u001b[0m\u001b[1;33m]\u001b[0m\u001b[1;33m[\u001b[0m\u001b[1;36m3\u001b[0m\u001b[1;33m]\u001b[0m\u001b[1;33m\u001b[0m\u001b[0m\n\u001b[0m\u001b[0;32m      9\u001b[0m \u001b[1;31m#最後一筆資料的價格\u001b[0m\u001b[1;33m\u001b[0m\u001b[1;33m\u001b[0m\u001b[0m\n\u001b[0;32m     10\u001b[0m     \u001b[0mC\u001b[0m\u001b[1;33m=\u001b[0m \u001b[0mI020a\u001b[0m\u001b[1;33m[\u001b[0m\u001b[1;33m-\u001b[0m\u001b[1;36m1\u001b[0m\u001b[1;33m]\u001b[0m\u001b[1;33m[\u001b[0m\u001b[1;36m3\u001b[0m\u001b[1;33m]\u001b[0m\u001b[1;33m\u001b[0m\u001b[0m\n",
      "\u001b[1;31mIndexError\u001b[0m: list index out of range"
     ]
    }
   ],
   "source": [
    "    DD='Date_list1[0]'\n",
    "    #計算當前漲跌幅=(1030收盤減開盤)/(開盤)\n",
    "    CurrentSpread=((OHLC(DD,8450000,10300000)[0])-(DD,8450000,10300000)[3]))/(int(OHLC(Match_data1[0][0]),8450000,10300000)[0])*100"
   ]
  },
  {
   "cell_type": "code",
   "execution_count": null,
   "metadata": {},
   "outputs": [],
   "source": [
    "#每日回測\n",
    "for DateNum in range(len(Date_list1)):\n",
    "    DD='Date_list1[DateNum]'\n",
    "    #計算當前漲跌幅=(1030收盤減開盤)/(開盤)\n",
    "    CurrentSpread=((OHLC(DD,8450000,10300000)[0])-(OHLC(DD,8450000,10300000)[3]))/(OHLC(DD,8450000,10300000)[0])*100\n",
    "\n",
    "    #確認買進訊號\n",
    "    BuySignal=0\n",
    "    SellShortSignal=0\n",
    "    if int(OutDeskValue(DD))>CurrentSpread+1: #當理論值大於實際值+1即買進\n",
    "        BuySignal=1\n",
    "        \n",
    "    elif int(OutDeskValue(DD))<CurrentSpread-1: #當理論值小於實際值-1即賣出\n",
    "        SellShortSignal=1\n",
    "    else:\n",
    "        BuySignal=0\n",
    "        SellShortSignal=0    \n",
    "\n",
    "   \n",
    "    #取得回測每日資料\n",
    "    C_I020 = [ i for i in Match_data1 if i[0]== Date_list[DateNum] ]\n",
    "    \n",
    "    #設立買賣時間\n",
    "    I020a= [ line for line in C_I020 if int(line[1])>=10300000 and int(line[1])<=12300000 ]\n",
    "    I020b= [ line for line in C_I020 if int(line[1])>=8450000 and int(line[1])<=13300000 ]\n",
    "    #當時間=1030時 確認是否有進場訊號\n",
    "    for i in range(1,len(I020a)):\n",
    "        if I020a[1+i][1]==10300000  and BuySignal==1:\n",
    "            OrderDay=I020a[i][0]  \n",
    "            OrderTime=I020a[i][1] \n",
    "            OrderPrice=int(I020a[i][3])              \n",
    "        elif I020a[1+i][1]==10300000  and SellShortSignal==1:\n",
    "            OrdershortDay=I020a[i][0]  \n",
    "            OrderTime=I020a[i][1]  \n",
    "            OrderPrice=int(I020a[i][3])     \n",
    "        print(BuyDay)\n",
    "            \n",
    "    for i in range(1,len(I020b)):\n",
    "        price=int(I020a[i][3])\n",
    "        if price <= int(OrderPrice)-30 or price >= int(OrderPrice)+30:\n",
    "            CoverDay=I020b[i][0]  #平倉日\n",
    "            CoverTime=I020b[i][1]  #平倉時間紀錄\n",
    "            CoverPrice=int(I020b[i][3])  #平倉時間紀錄\n",
    "            break;\n",
    "        elif i == len(I020a)-1:\n",
    "            CoverDay=I020b[i][0]  #平倉日\n",
    "            CoverTime=I020b[i][1]  #平倉時間紀錄\n",
    "            CoverPrice=int(I020b[i][3]) #平倉時間紀錄\n",
    "    #print(\"Date:\",CoverDay,\" OrderTime:\",,\" OrderPrice:\",op[1],\" CoverTime:\",CoverTime,\" CoverPrice:\",CoverPrice,\" Profit:\",CoverPrice-op[1])\n"
   ]
  }
 ],
 "metadata": {
  "kernelspec": {
   "display_name": "Python 3",
   "language": "python",
   "name": "python3"
  },
  "language_info": {
   "codemirror_mode": {
    "name": "ipython",
    "version": 3
   },
   "file_extension": ".py",
   "mimetype": "text/x-python",
   "name": "python",
   "nbconvert_exporter": "python",
   "pygments_lexer": "ipython3",
   "version": "3.6.5"
  }
 },
 "nbformat": 4,
 "nbformat_minor": 2
}
