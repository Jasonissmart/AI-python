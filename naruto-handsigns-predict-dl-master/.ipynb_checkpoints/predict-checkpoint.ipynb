{
 "cells": [
  {
   "cell_type": "code",
   "execution_count": 4,
   "metadata": {},
   "outputs": [
    {
     "ename": "ModuleNotFoundError",
     "evalue": "No module named 'pygame'",
     "output_type": "error",
     "traceback": [
      "\u001b[1;31m---------------------------------------------------------------------------\u001b[0m",
      "\u001b[1;31mModuleNotFoundError\u001b[0m                       Traceback (most recent call last)",
      "\u001b[1;32m<ipython-input-4-ebbe85aa6850>\u001b[0m in \u001b[0;36m<module>\u001b[1;34m()\u001b[0m\n\u001b[0;32m      8\u001b[0m \u001b[1;32mimport\u001b[0m \u001b[0mjson\u001b[0m\u001b[1;33m\u001b[0m\u001b[0m\n\u001b[0;32m      9\u001b[0m \u001b[1;32mfrom\u001b[0m \u001b[0mPIL\u001b[0m \u001b[1;32mimport\u001b[0m \u001b[0mImage\u001b[0m\u001b[1;33m\u001b[0m\u001b[0m\n\u001b[1;32m---> 10\u001b[1;33m \u001b[1;32mimport\u001b[0m \u001b[0mpygame\u001b[0m\u001b[1;33m\u001b[0m\u001b[0m\n\u001b[0m\u001b[0;32m     11\u001b[0m \u001b[1;33m\u001b[0m\u001b[0m\n\u001b[0;32m     12\u001b[0m \u001b[0mpygame\u001b[0m\u001b[1;33m.\u001b[0m\u001b[0minit\u001b[0m\u001b[1;33m(\u001b[0m\u001b[1;33m)\u001b[0m\u001b[1;33m\u001b[0m\u001b[0m\n",
      "\u001b[1;31mModuleNotFoundError\u001b[0m: No module named 'pygame'"
     ]
    }
   ],
   "source": [
    "# %load predict.py\n",
    "import numpy as np\n",
    "import operator\n",
    "import cv2\n",
    "import sys, os\n",
    "from tensorflow.keras.models import load_model\n",
    "from tensorflow.keras.models import model_from_json\n",
    "import json\n",
    "from PIL import Image\n",
    "import pygame\n",
    "\n",
    "pygame.init()\n",
    "screen = pygame.display.set_mode((900,900),pygame.RESIZABLE)\n",
    "\n",
    "CLIP_X1 = 160\n",
    "CLIP_Y1 = 140\n",
    "CLIP_X2 = 400\n",
    "CLIP_Y2 = 360\n",
    "\n",
    "with open('model_in_json.json','r') as f:\n",
    "    model_json = json.load(f)\n",
    "loaded_model = model_from_json(model_json)\n",
    "loaded_model.load_weights('model_weights.h5')\n",
    "\n",
    "cap = cv2.VideoCapture(0)\n",
    "\n",
    "while True:\n",
    "    _, FrameImage = cap.read()\n",
    "    FrameImage = cv2.flip(FrameImage, 1)\n",
    "    cv2.imshow(\"\", FrameImage)\n",
    "    cv2.rectangle(FrameImage, (CLIP_X1, CLIP_Y1), (CLIP_X2, CLIP_Y2), (0,255,0) ,1)\n",
    "\n",
    "    ROI = FrameImage[CLIP_Y1:CLIP_Y2, CLIP_X1:CLIP_X2]\n",
    "    ROI = cv2.resize(ROI, (64, 64)) \n",
    "    ROI = cv2.cvtColor(ROI, cv2.COLOR_BGR2GRAY)\n",
    "    #ROI= cv2.add(ROI,np.array([40.0]))\n",
    "    _, output = cv2.threshold(ROI, 100, 255, cv2.THRESH_BINARY) # adjust brightness\n",
    "    \n",
    "    SHOWROI = cv2.resize(ROI, (256, 256)) \n",
    "    _, output2 = cv2.threshold(SHOWROI, 100, 255, cv2.THRESH_BINARY)\n",
    "    cv2.imshow(\"ROI\", output2)\n",
    "    \n",
    "    result = loaded_model.predict(output.reshape(1, 64, 64, 1))\n",
    "    predict =   { 'bird':    result[0][0],\n",
    "                  'dragon':    result[0][1],    \n",
    "                  'horse':    result[0][2],\n",
    "                  'monkey':    result[0][3],\n",
    "                  'dog':    result[0][3],\n",
    "                  'ox':    result[0][5],\n",
    "                  'serpent':    result[0][6],\n",
    "                  'ram':    result[0][7],\n",
    "                  }\n",
    "    \n",
    "    predict = sorted(predict.items(), key=operator.itemgetter(1), reverse=True)\n",
    "    \n",
    "    if(predict[0][1] == 1.0):\n",
    "        predict_img  = pygame.image.load(os.getcwd() + '/dataset/images/' + predict[0][0] + '.png')\n",
    "    else:\n",
    "        predict_img  = pygame.image.load(os.getcwd() + '/dataset/images/nosign.png')\n",
    "    predict_img = pygame.transform.scale(predict_img, (900, 900))\n",
    "    screen.blit(predict_img, (0,0))\n",
    "    pygame.display.flip()\n",
    "    interrupt = cv2.waitKey(10)\n",
    "\n",
    "    if interrupt & 0xFF == ord('q'): # esc key\n",
    "        break\n",
    "            \n",
    "pygame.quit()\n",
    "cap.release()\n",
    "cv2.destroyAllWindows()\n"
   ]
  },
  {
   "cell_type": "code",
   "execution_count": null,
   "metadata": {},
   "outputs": [],
   "source": []
  }
 ],
 "metadata": {
  "kernelspec": {
   "display_name": "Python 3",
   "language": "python",
   "name": "python3"
  },
  "language_info": {
   "codemirror_mode": {
    "name": "ipython",
    "version": 3
   },
   "file_extension": ".py",
   "mimetype": "text/x-python",
   "name": "python",
   "nbconvert_exporter": "python",
   "pygments_lexer": "ipython3",
   "version": "3.6.5"
  }
 },
 "nbformat": 4,
 "nbformat_minor": 2
}
