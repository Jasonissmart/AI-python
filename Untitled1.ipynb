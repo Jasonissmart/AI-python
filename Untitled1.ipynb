{
 "cells": [
  {
   "attachments": {},
   "cell_type": "markdown",
   "metadata": {},
   "source": [
    "# 火影忍者結印影像辨識\n",
    "\n",
    "### 組員:\n",
    "財管四 105307030 陳韋勳<br>\n",
    "應數一 108701016 洪晨維<br>\n",
    "應數一 108701044 戴煜偉<br>\n",
    "應數一 108701003 林均宥\n",
    "\n",
    "## 1. 動機\n",
    "如果想要成為一名強大的火影，修練S級忍術的結印是一條必經之路，更是我們這組成員的最終目標！<br>\n",
    "然而問題出現了，我們知道了訓練的方法，卻沒有驗證結印正確性的工具。<br>\n",
    "因此，我們這組希望能夠透過機器學習來判斷我們比出的結印的正確性。<br>\n",
    "\n",
    "\n",
    "## 2. 參考程式碼及資料集來源\n",
    "https://github.com/angry-coder-room/naruto-handsigns-predict-dl<br>\n",
    "已徵求到作者程式碼以及圖片使用的授權!\n",
    "原始照片共88張，經剔除不合適的照片後，剩7799張，將其中6214張分成train檔，剩下1585張分成test檔\n",
    "\n",
    "## 3. 模型選擇\n",
    " 作者原本採用的模型是LeNet-5模型搭配AlexNet模型中避免overfitting的兩個方法: Data Augmentation & dropout，<br>\n",
    "但因為作者的模型在測試資料檔中的準確率並不高，於是我們研究了幾個比較有名的CNN模型，<br>其中包括: LeNet, AlexNet, VGGNet以及GoogLeNet。<br>最後我們決定採用用GoogLeNet模型並搭配一些AlexNet模型中避免overfitting的方法\n",
    "\n",
    "## 分工:\n",
    "### 陳韋勳: 資料處理、建構模型、報告撰寫\n",
    "### 洪晨維: 資料處理、建構模型\n",
    "### 戴煜偉: 資料處理、建構模型、比較模型、報告撰寫\n",
    "### 林均宥: 建構模型、圖像化模型預測結果"
   ]
  },
  {
   "cell_type": "code",
   "execution_count": null,
   "metadata": {},
   "outputs": [],
   "source": []
  }
 ],
 "metadata": {
  "kernelspec": {
   "display_name": "Python 3",
   "language": "python",
   "name": "python3"
  },
  "language_info": {
   "codemirror_mode": {
    "name": "ipython",
    "version": 3
   },
   "file_extension": ".py",
   "mimetype": "text/x-python",
   "name": "python",
   "nbconvert_exporter": "python",
   "pygments_lexer": "ipython3",
   "version": "3.6.5"
  }
 },
 "nbformat": 4,
 "nbformat_minor": 2
}
